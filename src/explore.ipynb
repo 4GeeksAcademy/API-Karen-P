{
    "cells": [
        {
            "cell_type": "markdown",
            "metadata": {},
            "source": [
                "# API"
            ]
        },
        {
            "cell_type": "markdown",
            "metadata": {},
            "source": [
                "### Importamos librerias"
            ]
        },
        {
            "cell_type": "code",
            "execution_count": null,
            "metadata": {},
            "outputs": [],
            "source": [
                "import os\n",
                "import pandas as pd\n",
                "import matplotlib.pyplot as plt\n",
                "from dotenv import load_dotenv\n",
                "import spotipy\n",
                "from spotipy.oauth2 import SpotifyClientCredentials\n",
                "import sqlite3"
            ]
        },
        {
            "cell_type": "markdown",
            "metadata": {},
            "source": [
                "### 1- Cargamos las variables de entorno"
            ]
        },
        {
            "cell_type": "code",
            "execution_count": 12,
            "metadata": {},
            "outputs": [],
            "source": [
                "load_dotenv()\n",
                "client_id = os.environ.get(\"CLIENT_ID\")\n",
                "client_secret = os.environ.get(\"CLIENT_SECRET\")"
            ]
        },
        {
            "cell_type": "markdown",
            "metadata": {},
            "source": [
                "### 2- Inicializamos la conexion con Spotify\n",
                "> Despues creamos el objeto de autenticación y el cliente de spotify"
            ]
        },
        {
            "cell_type": "code",
            "execution_count": null,
            "metadata": {},
            "outputs": [],
            "source": [
                "auth_manager = SpotifyClientCredentials(client_id=client_id, client_secret=client_secret)\n",
                "sp = spotipy.Spotify(auth_manager=auth_manager)"
            ]
        },
        {
            "cell_type": "markdown",
            "metadata": {},
            "source": [
                "### 3- Obtenemos el top 10 de canciones de un artista\n",
                "> Usamos una función "
            ]
        },
        {
            "cell_type": "code",
            "execution_count": null,
            "metadata": {},
            "outputs": [],
            "source": [
                "def obtener_top10_con_nombre(artist_id):\n",
                "    artista = sp.artist(artist_id)\n",
                "    nombre_artista = artista['name']\n",
                "    top_tracks = sp.artist_top_tracks(artist_id, country='ES')['tracks']\n",
                "    canciones = []\n",
                "    for track in top_tracks[:10]:\n",
                "        canciones.append({\n",
                "            'artista': nombre_artista,\n",
                "            'nombre': track['name'],\n",
                "            'popularidad': track['popularity'],\n",
                "            'duration_min': track['duration_ms'] / 60000\n",
                "        })\n",
                "    return pd.DataFrame(canciones)\n"
            ]
        },
        {
            "cell_type": "code",
            "execution_count": 5,
            "metadata": {},
            "outputs": [
                {
                    "name": "stdout",
                    "output_type": "stream",
                    "text": [
                        "1e987ea69c564c1cae289aabbb1122c1\n",
                        "606b15693a6a40a2a7da15ae937adad4\n"
                    ]
                }
            ],
            "source": [
                "print(os.environ.get(\"CLIENT_ID\"))\n",
                "print(os.environ.get(\"CLIENT_SECRET\"))"
            ]
        },
        {
            "cell_type": "markdown",
            "metadata": {},
            "source": [
                "### 4- Llamamos a la función para obtener datos."
            ]
        },
        {
            "cell_type": "code",
            "execution_count": null,
            "metadata": {},
            "outputs": [
                {
                    "name": "stdout",
                    "output_type": "stream",
                    "text": [
                        "  artista                           nombre  popularidad  duration_min\n",
                        "0   Drake    Which One (feat. Central Cee)           88      2.818900\n",
                        "1   Drake                            NOKIA           88      4.017050\n",
                        "2   Drake                        One Dance           87      2.899767\n",
                        "3   Drake                 What Did I Miss?           86      3.238733\n",
                        "4   Drake                     Passionfruit           85      4.982333\n",
                        "5   Drake                        Headlines           84      3.933100\n",
                        "6   Drake                         She Will           79      5.097333\n",
                        "7   Drake                       God's Plan           84      3.316217\n",
                        "8   Drake                       DIE TRYING           83      3.257183\n",
                        "9   Drake  WAIT FOR U (feat. Drake & Tems)           83      3.164883\n",
                        "  artista                           nombre  popularidad  duration_min\n",
                        "6   Drake                         She Will           79      5.097333\n",
                        "8   Drake                       DIE TRYING           83      3.257183\n",
                        "9   Drake  WAIT FOR U (feat. Drake & Tems)           83      3.164883\n"
                    ]
                }
            ],
            "source": [
                "artist_id = '3TVXtAsR1Inumwj472S9r4'  \n",
                "canciones = obtener_top10_con_nombre(artist_id)\n",
                "print(canciones)\n",
                "\n",
                "# Ordena por popularidad ascendente y muestra el top 3 menos populares\n",
                "menos_populares = canciones.sort_values(by='popularidad', ascending=True).head(3)\n",
                "print(menos_populares)\n"
            ]
        },
        {
            "cell_type": "markdown",
            "metadata": {},
            "source": [
                "### 5- Grafica de Dispersión (scatter plot)"
            ]
        },
        {
            "cell_type": "code",
            "execution_count": null,
            "metadata": {},
            "outputs": [
                {
                    "data": {
                        "image/png": "[encoded data removed]",
                        "text/plain": [
                            "<Figure size 640x480 with 1 Axes>"
                        ]
                    },
                    "metadata": {},
                    "output_type": "display_data"
                }
            ],
            "source": [
                "plt.scatter(canciones['duration_min'], canciones['popularidad'])\n",
                "plt.xlabel('Duración (minutos)')\n",
                "plt.ylabel('Popularidad')\n",
                "plt.title('Relación entre duración y popularidad')\n",
                "plt.show()"
            ]
        },
        {
            "cell_type": "markdown",
            "metadata": {},
            "source": [
                "### Crea un marco de datos de Python Pandas para facilitar la manipulación de los datos.\n",
                "> Aunque ya tengo un DataFrame de Pandas en mi función obtener_top10_con_nombre, aquí muestro cómo crear explícitamente un DataFrame a partir de una lista de diccionarios, para poder manipularlo fácilmente:"
            ]
        },
        {
            "cell_type": "code",
            "execution_count": null,
            "metadata": {},
            "outputs": [
                {
                    "name": "stdout",
                    "output_type": "stream",
                    "text": [
                        "  artista     nombre  popularidad  duration_min\n",
                        "0   Drake  Canción 1           85           3.5\n",
                        "1   Drake  Canción 2           90           4.0\n",
                        "2   Drake  Canción 3           78           2.8\n"
                    ]
                }
            ],
            "source": [
                "# Ejemplo de cómo crear un DataFrame de Pandas desde cero\n",
                "datos = [\n",
                "    {\"artista\": \"Drake\", \"nombre\": \"Canción 1\", \"popularidad\": 85, \"duration_min\": 3.5},\n",
                "    {\"artista\": \"Drake\", \"nombre\": \"Canción 2\", \"popularidad\": 90, \"duration_min\": 4.0},\n",
                "    {\"artista\": \"Drake\", \"nombre\": \"Canción 3\", \"popularidad\": 78, \"duration_min\": 2.8}\n",
                "]\n",
                "\n",
                "df = pd.DataFrame(datos)\n",
                "print(df)"
            ]
        },
        {
            "cell_type": "markdown",
            "metadata": {},
            "source": [
                "> Realmente el DataFrame canciones que obtengo de la función ya es un marco de datos de Pandas, así que puedo manipularlo directamente, por ejemplo:"
            ]
        },
        {
            "cell_type": "code",
            "execution_count": 17,
            "metadata": {},
            "outputs": [
                {
                    "name": "stdout",
                    "output_type": "stream",
                    "text": [
                        "  artista                         nombre  popularidad  duration_min\n",
                        "0   Drake  Which One (feat. Central Cee)           88      2.818900\n",
                        "1   Drake                          NOKIA           88      4.017050\n",
                        "2   Drake                      One Dance           87      2.899767\n",
                        "3   Drake               What Did I Miss?           86      3.238733\n",
                        "4   Drake                   Passionfruit           85      4.982333\n",
                        "       popularidad  duration_min\n",
                        "count    10.000000     10.000000\n",
                        "mean     84.700000      3.672550\n",
                        "std       2.750757      0.816731\n",
                        "min      79.000000      2.818900\n",
                        "25%      83.250000      3.183346\n",
                        "50%      84.500000      3.286700\n",
                        "75%      86.750000      3.996063\n",
                        "max      88.000000      5.097333\n"
                    ]
                }
            ],
            "source": [
                "print(canciones.head())  # Muestra las primeras filas del DataFrame\n",
                "print(canciones.describe())  # Estadísticas básicas\n"
            ]
        },
        {
            "cell_type": "markdown",
            "metadata": {},
            "source": [
                "### Esto creará un archivo canciones.db en mi proyecto y guardará los datos del DataFrame en la tabla top_canciones."
            ]
        },
        {
            "cell_type": "code",
            "execution_count": 19,
            "metadata": {},
            "outputs": [
                {
                    "name": "stdout",
                    "output_type": "stream",
                    "text": [
                        "  artista                         nombre  popularidad  duration_min\n",
                        "0   Drake  Which One (feat. Central Cee)           88      2.818900\n",
                        "1   Drake                          NOKIA           88      4.017050\n",
                        "2   Drake                      One Dance           87      2.899767\n",
                        "3   Drake               What Did I Miss?           86      3.238733\n",
                        "4   Drake                   Passionfruit           85      4.982333\n"
                    ]
                }
            ],
            "source": [
                "\n",
                "# Conexión a una base de datos SQLite (crea el archivo si no existe)\n",
                "conn = sqlite3.connect('canciones.db')\n",
                "\n",
                "# Guarda el DataFrame 'canciones' en una tabla llamada 'top_canciones'\n",
                "canciones.to_sql('top_canciones', conn, if_exists='replace', index=False)\n",
                "\n",
                "# Opcional: verifica que los datos se guardaron correctamente\n",
                "df_sql = pd.read_sql('SELECT * FROM top_canciones', conn)\n",
                "print(df_sql.head())\n",
                "\n",
                "# Cierra la conexión\n",
                "conn.close()"
            ]
        }
    ],
    "metadata": {
        "kernelspec": {
            "display_name": "Python 3",
            "language": "python",
            "name": "python3"
        },
        "language_info": {
            "codemirror_mode": {
                "name": "ipython",
                "version": 3
            },
            "file_extension": ".py",
            "mimetype": "text/x-python",
            "name": "python",
            "nbconvert_exporter": "python",
            "pygments_lexer": "ipython3",
            "version": "3.11.4"
        },
        "orig_nbformat": 4
    },
    "nbformat": 4,
    "nbformat_minor": 2
}
