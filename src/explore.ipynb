{
    "cells": [
        {
            "cell_type": "markdown",
            "metadata": {},
            "source": [
                "# Explore here"
            ]
        },
        {
            "cell_type": "code",
            "execution_count": 4,
            "metadata": {},
            "outputs": [],
            "source": [
                "import os\n",
                "import pandas as pd\n",
                "from dotenv import load_dotenv\n",
                "\n",
                "# load the .env file variables\n",
                "load_dotenv()\n",
                "\n",
                "client_id= os.getenv('CLIENT_ID')\n",
                "client_secret= os.getenv('CLIENT_SECRET')\n",
                "\n"
            ]
        },
        {
            "cell_type": "code",
            "execution_count": 5,
            "metadata": {},
            "outputs": [],
            "source": [
                "import spotipy\n",
                "from spotipy.oauth2 import SpotifyClientCredentials\n",
                "\n",
                "con = spotipy.Spotify(auth_manager=SpotifyClientCredentials(client_id=client_id, client_secret=client_secret))"
            ]
        },
        {
            "cell_type": "code",
            "execution_count": 6,
            "metadata": {},
            "outputs": [
                {
                    "name": "stdout",
                    "output_type": "stream",
                    "text": [
                        "{'tracks': [{'album': {'album_type': 'album', 'artists': [{'external_urls': {'spotify': 'https://open.spotify.com/artist/6qqNVTkY8uBg9cP3Jd7DAH'}, 'href': 'https://api.spotify.com/v1/artists/6qqNVTkY8uBg9cP3Jd7DAH', 'id': '6qqNVTkY8uBg9cP3Jd7DAH', 'name': 'Billie Eilish', 'type': 'artist', 'uri': 'spotify:artist:6qqNVTkY8uBg9cP3Jd7DAH'}], 'available_markets': ['AR', 'AU', 'AT', 'BE', 'BO', 'BR', 'BG', 'CA', 'CL', 'CO', 'CR', 'CY', 'CZ', 'DK', 'DO', 'DE', 'EC', 'EE', 'SV', 'FI', 'FR', 'GR', 'GT', 'HN', 'HK', 'HU', 'IS', 'IE', 'IT', 'LV', 'LT', 'LU', 'MY', 'MT', 'MX', 'NL', 'NZ', 'NI', 'NO', 'PA', 'PY', 'PE', 'PH', 'PL', 'PT', 'SG', 'SK', 'ES', 'SE', 'CH', 'TW', 'TR', 'UY', 'US', 'GB', 'AD', 'LI', 'MC', 'ID', 'JP', 'TH', 'VN', 'RO', 'IL', 'ZA', 'SA', 'AE', 'BH', 'QA', 'OM', 'KW', 'EG', 'MA', 'DZ', 'TN', 'LB', 'JO', 'PS', 'IN', 'KZ', 'MD', 'UA', 'AL', 'BA', 'HR', 'ME', 'MK', 'RS', 'SI', 'KR', 'BD', 'PK', 'LK', 'GH', 'KE', 'NG', 'TZ', 'UG', 'AG', 'AM', 'BS', 'BB', 'BZ', 'BT', 'BW', 'BF', 'CV', 'CW', 'DM', 'FJ', 'GM', 'GE', 'GD', 'GW', 'GY', 'HT', 'JM', 'KI', 'LS', 'LR', 'MW', 'MV', 'ML', 'MH', 'FM', 'NA', 'NR', 'NE', 'PW', 'PG', 'WS', 'SM', 'ST', 'SN', 'SC', 'SL', 'SB', 'KN', 'LC', 'VC', 'SR', 'TL', 'TO', 'TT', 'TV', 'VU', 'AZ', 'BN', 'BI', 'KH', 'CM', 'TD', 'KM', 'GQ', 'SZ', 'GA', 'GN', 'KG', 'LA', 'MO', 'MR', 'MN', 'NP', 'RW', 'TG', 'UZ', 'ZW', 'BJ', 'MG', 'MU', 'MZ', 'AO', 'CI', 'DJ', 'ZM', 'CD', 'CG', 'IQ', 'LY', 'TJ', 'VE', 'ET', 'XK'], 'external_urls': {'spotify': 'https://open.spotify.com/album/7aJuG4TFXa2hmE4z1yxc3n'}, 'href': 'https://api.spotify.com/v1/albums/7aJuG4TFXa2hmE4z1yxc3n', 'id': '7aJuG4TFXa2hmE4z1yxc3n', 'images': [{'url': 'https://i.scdn.co/image/ab67616d0000b27371d62ea7ea8a5be92d3c1f62', 'height': 640, 'width': 640}, {'url': 'https://i.scdn.co/image/ab67616d00001e0271d62ea7ea8a5be92d3c1f62', 'height': 300, 'width': 300}, {'url': 'https://i.scdn.co/image/ab67616d0000485171d62ea7ea8a5be92d3c1f62', 'height': 64, 'width': 64}], 'is_playable': True, 'name': 'HIT ME HARD AND SOFT', 'release_date': '2024-05-17', 'release_date_precision': 'day', 'total_tracks': 10, 'type': 'album', 'uri': 'spotify:album:7aJuG4TFXa2hmE4z1yxc3n'}, 'artists': [{'external_urls': {'spotify': 'https://open.spotify.com/artist/6qqNVTkY8uBg9cP3Jd7DAH'}, 'href': 'https://api.spotify.com/v1/artists/6qqNVTkY8uBg9cP3Jd7DAH', 'id': '6qqNVTkY8uBg9cP3Jd7DAH', 'name': 'Billie Eilish', 'type': 'artist', 'uri': 'spotify:artist:6qqNVTkY8uBg9cP3Jd7DAH'}], 'available_markets': ['AR', 'AU', 'AT', 'BE', 'BO', 'BR', 'BG', 'CA', 'CL', 'CO', 'CR', 'CY', 'CZ', 'DK', 'DO', 'DE', 'EC', 'EE', 'SV', 'FI', 'FR', 'GR', 'GT', 'HN', 'HK', 'HU', 'IS', 'IE', 'IT', 'LV', 'LT', 'LU', 'MY', 'MT', 'MX', 'NL', 'NZ', 'NI', 'NO', 'PA', 'PY', 'PE', 'PH', 'PL', 'PT', 'SG', 'SK', 'ES', 'SE', 'CH', 'TW', 'TR', 'UY', 'US', 'GB', 'AD', 'LI', 'MC', 'ID', 'JP', 'TH', 'VN', 'RO', 'IL', 'ZA', 'SA', 'AE', 'BH', 'QA', 'OM', 'KW', 'EG', 'MA', 'DZ', 'TN', 'LB', 'JO', 'PS', 'IN', 'KZ', 'MD', 'UA', 'AL', 'BA', 'HR', 'ME', 'MK', 'RS', 'SI', 'KR', 'BD', 'PK', 'LK', 'GH', 'KE', 'NG', 'TZ', 'UG', 'AG', 'AM', 'BS', 'BB', 'BZ', 'BT', 'BW', 'BF', 'CV', 'CW', 'DM', 'FJ', 'GM', 'GE', 'GD', 'GW', 'GY', 'HT', 'JM', 'KI', 'LS', 'LR', 'MW', 'MV', 'ML', 'MH', 'FM', 'NA', 'NR', 'NE', 'PW', 'PG', 'WS', 'SM', 'ST', 'SN', 'SC', 'SL', 'SB', 'KN', 'LC', 'VC', 'SR', 'TL', 'TO', 'TT', 'TV', 'VU', 'AZ', 'BN', 'BI', 'KH', 'CM', 'TD', 'KM', 'GQ', 'SZ', 'GA', 'GN', 'KG', 'LA', 'MO', 'MR', 'MN', 'NP', 'RW', 'TG', 'UZ', 'ZW', 'BJ', 'MG', 'MU', 'MZ', 'AO', 'CI', 'DJ', 'ZM', 'CD', 'CG', 'IQ', 'LY', 'TJ', 'VE', 'ET', 'XK'], 'disc_number': 1, 'duration_ms': 210373, 'explicit': False, 'external_ids': {'isrc': 'USUM72401994'}, 'external_urls': {'spotify': 'https://open.spotify.com/track/6dOtVTDdiauQNBQEDOtlAB'}, 'href': 'https://api.spotify.com/v1/tracks/6dOtVTDdiauQNBQEDOtlAB', 'id': '6dOtVTDdiauQNBQEDOtlAB', 'is_local': False, 'is_playable': True, 'name': 'BIRDS OF A FEATHER', 'popularity': 98, 'preview_url': None, 'track_number': 4, 'type': 'track', 'uri': 'spotify:track:6dOtVTDdiauQNBQEDOtlAB'}, {'album': {'album_type': 'album', 'artists': [{'external_urls': {'spotify': 'https://open.spotify.com/artist/6qqNVTkY8uBg9cP3Jd7DAH'}, 'href': 'https://api.spotify.com/v1/artists/6qqNVTkY8uBg9cP3Jd7DAH', 'id': '6qqNVTkY8uBg9cP3Jd7DAH', 'name': 'Billie Eilish', 'type': 'artist', 'uri': 'spotify:artist:6qqNVTkY8uBg9cP3Jd7DAH'}], 'available_markets': ['AR', 'AU', 'AT', 'BE', 'BO', 'BR', 'BG', 'CA', 'CL', 'CO', 'CR', 'CY', 'CZ', 'DK', 'DO', 'DE', 'EC', 'EE', 'SV', 'FI', 'FR', 'GR', 'GT', 'HN', 'HK', 'HU', 'IS', 'IE', 'IT', 'LV', 'LT', 'LU', 'MY', 'MT', 'MX', 'NL', 'NZ', 'NI', 'NO', 'PA', 'PY', 'PE', 'PH', 'PL', 'PT', 'SG', 'SK', 'ES', 'SE', 'CH', 'TW', 'TR', 'UY', 'US', 'GB', 'AD', 'LI', 'MC', 'ID', 'JP', 'TH', 'VN', 'RO', 'IL', 'ZA', 'SA', 'AE', 'BH', 'QA', 'OM', 'KW', 'EG', 'MA', 'DZ', 'TN', 'LB', 'JO', 'PS', 'IN', 'KZ', 'MD', 'UA', 'AL', 'BA', 'HR', 'ME', 'MK', 'RS', 'SI', 'KR', 'BD', 'PK', 'LK', 'GH', 'KE', 'NG', 'TZ', 'UG', 'AG', 'AM', 'BS', 'BB', 'BZ', 'BT', 'BW', 'BF', 'CV', 'CW', 'DM', 'FJ', 'GM', 'GE', 'GD', 'GW', 'GY', 'HT', 'JM', 'KI', 'LS', 'LR', 'MW', 'MV', 'ML', 'MH', 'FM', 'NA', 'NR', 'NE', 'PW', 'PG', 'WS', 'SM', 'ST', 'SN', 'SC', 'SL', 'SB', 'KN', 'LC', 'VC', 'SR', 'TL', 'TO', 'TT', 'TV', 'VU', 'AZ', 'BN', 'BI', 'KH', 'CM', 'TD', 'KM', 'GQ', 'SZ', 'GA', 'GN', 'KG', 'LA', 'MO', 'MR', 'MN', 'NP', 'RW', 'TG', 'UZ', 'ZW', 'BJ', 'MG', 'MU', 'MZ', 'AO', 'CI', 'DJ', 'ZM', 'CD', 'CG', 'IQ', 'LY', 'TJ', 'VE', 'ET', 'XK'], 'external_urls': {'spotify': 'https://open.spotify.com/album/7aJuG4TFXa2hmE4z1yxc3n'}, 'href': 'https://api.spotify.com/v1/albums/7aJuG4TFXa2hmE4z1yxc3n', 'id': '7aJuG4TFXa2hmE4z1yxc3n', 'images': [{'url': 'https://i.scdn.co/image/ab67616d0000b27371d62ea7ea8a5be92d3c1f62', 'height': 640, 'width': 640}, {'url': 'https://i.scdn.co/image/ab67616d00001e0271d62ea7ea8a5be92d3c1f62', 'height': 300, 'width': 300}, {'url': 'https://i.scdn.co/image/ab67616d0000485171d62ea7ea8a5be92d3c1f62', 'height': 64, 'width': 64}], 'is_playable': True, 'name': 'HIT ME HARD AND SOFT', 'release_date': '2024-05-17', 'release_date_precision': 'day', 'total_tracks': 10, 'type': 'album', 'uri': 'spotify:album:7aJuG4TFXa2hmE4z1yxc3n'}, 'artists': [{'external_urls': {'spotify': 'https://open.spotify.com/artist/6qqNVTkY8uBg9cP3Jd7DAH'}, 'href': 'https://api.spotify.com/v1/artists/6qqNVTkY8uBg9cP3Jd7DAH', 'id': '6qqNVTkY8uBg9cP3Jd7DAH', 'name': 'Billie Eilish', 'type': 'artist', 'uri': 'spotify:artist:6qqNVTkY8uBg9cP3Jd7DAH'}], 'available_markets': ['AR', 'AU', 'AT', 'BE', 'BO', 'BR', 'BG', 'CA', 'CL', 'CO', 'CR', 'CY', 'CZ', 'DK', 'DO', 'DE', 'EC', 'EE', 'SV', 'FI', 'FR', 'GR', 'GT', 'HN', 'HK', 'HU', 'IS', 'IE', 'IT', 'LV', 'LT', 'LU', 'MY', 'MT', 'MX', 'NL', 'NZ', 'NI', 'NO', 'PA', 'PY', 'PE', 'PH', 'PL', 'PT', 'SG', 'SK', 'ES', 'SE', 'CH', 'TW', 'TR', 'UY', 'US', 'GB', 'AD', 'LI', 'MC', 'ID', 'JP', 'TH', 'VN', 'RO', 'IL', 'ZA', 'SA', 'AE', 'BH', 'QA', 'OM', 'KW', 'EG', 'MA', 'DZ', 'TN', 'LB', 'JO', 'PS', 'IN', 'KZ', 'MD', 'UA', 'AL', 'BA', 'HR', 'ME', 'MK', 'RS', 'SI', 'KR', 'BD', 'PK', 'LK', 'GH', 'KE', 'NG', 'TZ', 'UG', 'AG', 'AM', 'BS', 'BB', 'BZ', 'BT', 'BW', 'BF', 'CV', 'CW', 'DM', 'FJ', 'GM', 'GE', 'GD', 'GW', 'GY', 'HT', 'JM', 'KI', 'LS', 'LR', 'MW', 'MV', 'ML', 'MH', 'FM', 'NA', 'NR', 'NE', 'PW', 'PG', 'WS', 'SM', 'ST', 'SN', 'SC', 'SL', 'SB', 'KN', 'LC', 'VC', 'SR', 'TL', 'TO', 'TT', 'TV', 'VU', 'AZ', 'BN', 'BI', 'KH', 'CM', 'TD', 'KM', 'GQ', 'SZ', 'GA', 'GN', 'KG', 'LA', 'MO', 'MR', 'MN', 'NP', 'RW', 'TG', 'UZ', 'ZW', 'BJ', 'MG', 'MU', 'MZ', 'AO', 'CI', 'DJ', 'ZM', 'CD', 'CG', 'IQ', 'LY', 'TJ', 'VE', 'ET', 'XK'], 'disc_number': 1, 'duration_ms': 261466, 'explicit': False, 'external_ids': {'isrc': 'USUM72401993'}, 'external_urls': {'spotify': 'https://open.spotify.com/track/3QaPy1KgI7nu9FJEQUgn6h'}, 'href': 'https://api.spotify.com/v1/tracks/3QaPy1KgI7nu9FJEQUgn6h', 'id': '3QaPy1KgI7nu9FJEQUgn6h', 'is_local': False, 'is_playable': True, 'name': 'WILDFLOWER', 'popularity': 95, 'preview_url': None, 'track_number': 5, 'type': 'track', 'uri': 'spotify:track:3QaPy1KgI7nu9FJEQUgn6h'}, {'album': {'album_type': 'album', 'artists': [{'external_urls': {'spotify': 'https://open.spotify.com/artist/6qqNVTkY8uBg9cP3Jd7DAH'}, 'href': 'https://api.spotify.com/v1/artists/6qqNVTkY8uBg9cP3Jd7DAH', 'id': '6qqNVTkY8uBg9cP3Jd7DAH', 'name': 'Billie Eilish', 'type': 'artist', 'uri': 'spotify:artist:6qqNVTkY8uBg9cP3Jd7DAH'}], 'available_markets': ['AR', 'AU', 'AT', 'BE', 'BO', 'BR', 'BG', 'CA', 'CL', 'CO', 'CR', 'CY', 'CZ', 'DK', 'DO', 'DE', 'EC', 'EE', 'SV', 'FI', 'FR', 'GR', 'GT', 'HN', 'HK', 'HU', 'IS', 'IE', 'IT', 'LV', 'LT', 'LU', 'MY', 'MT', 'MX', 'NL', 'NZ', 'NI', 'NO', 'PA', 'PY', 'PE', 'PH', 'PL', 'PT', 'SG', 'SK', 'ES', 'SE', 'CH', 'TW', 'TR', 'UY', 'US', 'GB', 'AD', 'LI', 'MC', 'ID', 'JP', 'TH', 'VN', 'RO', 'IL', 'ZA', 'SA', 'AE', 'BH', 'QA', 'OM', 'KW', 'EG', 'MA', 'DZ', 'TN', 'LB', 'JO', 'PS', 'IN', 'KZ', 'MD', 'UA', 'AL', 'BA', 'HR', 'ME', 'MK', 'RS', 'SI', 'KR', 'BD', 'PK', 'LK', 'GH', 'KE', 'NG', 'TZ', 'UG', 'AG', 'AM', 'BS', 'BB', 'BZ', 'BT', 'BW', 'BF', 'CV', 'CW', 'DM', 'FJ', 'GM', 'GE', 'GD', 'GW', 'GY', 'HT', 'JM', 'KI', 'LS', 'LR', 'MW', 'MV', 'ML', 'MH', 'FM', 'NA', 'NR', 'NE', 'PW', 'PG', 'WS', 'SM', 'ST', 'SN', 'SC', 'SL', 'SB', 'KN', 'LC', 'VC', 'SR', 'TL', 'TO', 'TT', 'TV', 'VU', 'AZ', 'BN', 'BI', 'KH', 'CM', 'TD', 'KM', 'GQ', 'SZ', 'GA', 'GN', 'KG', 'LA', 'MO', 'MR', 'MN', 'NP', 'RW', 'TG', 'UZ', 'ZW', 'BJ', 'MG', 'MU', 'MZ', 'AO', 'CI', 'DJ', 'ZM', 'CD', 'CG', 'IQ', 'LY', 'TJ', 'VE', 'ET', 'XK'], 'external_urls': {'spotify': 'https://open.spotify.com/album/7aJuG4TFXa2hmE4z1yxc3n'}, 'href': 'https://api.spotify.com/v1/albums/7aJuG4TFXa2hmE4z1yxc3n', 'id': '7aJuG4TFXa2hmE4z1yxc3n', 'images': [{'url': 'https://i.scdn.co/image/ab67616d0000b27371d62ea7ea8a5be92d3c1f62', 'height': 640, 'width': 640}, {'url': 'https://i.scdn.co/image/ab67616d00001e0271d62ea7ea8a5be92d3c1f62', 'height': 300, 'width': 300}, {'url': 'https://i.scdn.co/image/ab67616d0000485171d62ea7ea8a5be92d3c1f62', 'height': 64, 'width': 64}], 'is_playable': True, 'name': 'HIT ME HARD AND SOFT', 'release_date': '2024-05-17', 'release_date_precision': 'day', 'total_tracks': 10, 'type': 'album', 'uri': 'spotify:album:7aJuG4TFXa2hmE4z1yxc3n'}, 'artists': [{'external_urls': {'spotify': 'https://open.spotify.com/artist/6qqNVTkY8uBg9cP3Jd7DAH'}, 'href': 'https://api.spotify.com/v1/artists/6qqNVTkY8uBg9cP3Jd7DAH', 'id': '6qqNVTkY8uBg9cP3Jd7DAH', 'name': 'Billie Eilish', 'type': 'artist', 'uri': 'spotify:artist:6qqNVTkY8uBg9cP3Jd7DAH'}], 'available_markets': ['AR', 'AU', 'AT', 'BE', 'BO', 'BR', 'BG', 'CA', 'CL', 'CO', 'CR', 'CY', 'CZ', 'DK', 'DO', 'DE', 'EC', 'EE', 'SV', 'FI', 'FR', 'GR', 'GT', 'HN', 'HK', 'HU', 'IS', 'IE', 'IT', 'LV', 'LT', 'LU', 'MY', 'MT', 'MX', 'NL', 'NZ', 'NI', 'NO', 'PA', 'PY', 'PE', 'PH', 'PL', 'PT', 'SG', 'SK', 'ES', 'SE', 'CH', 'TW', 'TR', 'UY', 'US', 'GB', 'AD', 'LI', 'MC', 'ID', 'JP', 'TH', 'VN', 'RO', 'IL', 'ZA', 'SA', 'AE', 'BH', 'QA', 'OM', 'KW', 'EG', 'MA', 'DZ', 'TN', 'LB', 'JO', 'PS', 'IN', 'KZ', 'MD', 'UA', 'AL', 'BA', 'HR', 'ME', 'MK', 'RS', 'SI', 'KR', 'BD', 'PK', 'LK', 'GH', 'KE', 'NG', 'TZ', 'UG', 'AG', 'AM', 'BS', 'BB', 'BZ', 'BT', 'BW', 'BF', 'CV', 'CW', 'DM', 'FJ', 'GM', 'GE', 'GD', 'GW', 'GY', 'HT', 'JM', 'KI', 'LS', 'LR', 'MW', 'MV', 'ML', 'MH', 'FM', 'NA', 'NR', 'NE', 'PW', 'PG', 'WS', 'SM', 'ST', 'SN', 'SC', 'SL', 'SB', 'KN', 'LC', 'VC', 'SR', 'TL', 'TO', 'TT', 'TV', 'VU', 'AZ', 'BN', 'BI', 'KH', 'CM', 'TD', 'KM', 'GQ', 'SZ', 'GA', 'GN', 'KG', 'LA', 'MO', 'MR', 'MN', 'NP', 'RW', 'TG', 'UZ', 'ZW', 'BJ', 'MG', 'MU', 'MZ', 'AO', 'CI', 'DJ', 'ZM', 'CD', 'CG', 'IQ', 'LY', 'TJ', 'VE', 'ET', 'XK'], 'disc_number': 1, 'duration_ms': 303440, 'explicit': False, 'external_ids': {'isrc': 'USUM72401988'}, 'external_urls': {'spotify': 'https://open.spotify.com/track/7BRD7x5pt8Lqa1eGYC4dzj'}, 'href': 'https://api.spotify.com/v1/tracks/7BRD7x5pt8Lqa1eGYC4dzj', 'id': '7BRD7x5pt8Lqa1eGYC4dzj', 'is_local': False, 'is_playable': True, 'name': 'CHIHIRO', 'popularity': 89, 'preview_url': None, 'track_number': 3, 'type': 'track', 'uri': 'spotify:track:7BRD7x5pt8Lqa1eGYC4dzj'}, {'album': {'album_type': 'album', 'artists': [{'external_urls': {'spotify': 'https://open.spotify.com/artist/25uiPmTg16RbhZWAqwLBy5'}, 'href': 'https://api.spotify.com/v1/artists/25uiPmTg16RbhZWAqwLBy5', 'id': '25uiPmTg16RbhZWAqwLBy5', 'name': 'Charli xcx', 'type': 'artist', 'uri': 'spotify:artist:25uiPmTg16RbhZWAqwLBy5'}], 'available_markets': ['AR', 'AU', 'AT', 'BE', 'BO', 'BR', 'BG', 'CA', 'CL', 'CO', 'CR', 'CY', 'CZ', 'DK', 'DO', 'DE', 'EC', 'EE', 'SV', 'FI', 'FR', 'GR', 'GT', 'HN', 'HK', 'HU', 'IS', 'IE', 'IT', 'LV', 'LT', 'LU', 'MY', 'MT', 'MX', 'NL', 'NZ', 'NI', 'NO', 'PA', 'PY', 'PE', 'PH', 'PL', 'PT', 'SG', 'SK', 'ES', 'SE', 'CH', 'TW', 'TR', 'UY', 'US', 'GB', 'AD', 'LI', 'MC', 'ID', 'JP', 'TH', 'VN', 'RO', 'IL', 'ZA', 'SA', 'AE', 'BH', 'QA', 'OM', 'KW', 'EG', 'MA', 'DZ', 'TN', 'LB', 'JO', 'PS', 'IN', 'KZ', 'MD', 'UA', 'AL', 'BA', 'HR', 'ME', 'MK', 'RS', 'SI', 'KR', 'BD', 'PK', 'LK', 'GH', 'KE', 'NG', 'TZ', 'UG', 'AG', 'AM', 'BS', 'BB', 'BZ', 'BT', 'BW', 'BF', 'CV', 'CW', 'DM', 'FJ', 'GM', 'GE', 'GD', 'GW', 'GY', 'HT', 'JM', 'KI', 'LS', 'LR', 'MW', 'MV', 'ML', 'MH', 'FM', 'NA', 'NR', 'NE', 'PW', 'PG', 'PR', 'WS', 'SM', 'ST', 'SN', 'SC', 'SL', 'SB', 'KN', 'LC', 'VC', 'SR', 'TL', 'TO', 'TT', 'TV', 'VU', 'AZ', 'BN', 'BI', 'KH', 'CM', 'TD', 'KM', 'GQ', 'SZ', 'GA', 'GN', 'KG', 'LA', 'MO', 'MR', 'MN', 'NP', 'RW', 'TG', 'UZ', 'ZW', 'BJ', 'MG', 'MU', 'MZ', 'AO', 'CI', 'DJ', 'ZM', 'CD', 'CG', 'IQ', 'LY', 'TJ', 'VE', 'ET', 'XK'], 'external_urls': {'spotify': 'https://open.spotify.com/album/36P07bti6xD99o7S1acmin'}, 'href': 'https://api.spotify.com/v1/albums/36P07bti6xD99o7S1acmin', 'id': '36P07bti6xD99o7S1acmin', 'images': [{'url': 'https://i.scdn.co/image/ab67616d0000b27355a1e72ba425c60a02a9bb47', 'height': 640, 'width': 640}, {'url': 'https://i.scdn.co/image/ab67616d00001e0255a1e72ba425c60a02a9bb47', 'height': 300, 'width': 300}, {'url': 'https://i.scdn.co/image/ab67616d0000485155a1e72ba425c60a02a9bb47', 'height': 64, 'width': 64}], 'is_playable': True, 'name': 'Brat and it’s completely different but also still brat', 'release_date': '2024-10-11', 'release_date_precision': 'day', 'total_tracks': 34, 'type': 'album', 'uri': 'spotify:album:36P07bti6xD99o7S1acmin'}, 'artists': [{'external_urls': {'spotify': 'https://open.spotify.com/artist/25uiPmTg16RbhZWAqwLBy5'}, 'href': 'https://api.spotify.com/v1/artists/25uiPmTg16RbhZWAqwLBy5', 'id': '25uiPmTg16RbhZWAqwLBy5', 'name': 'Charli xcx', 'type': 'artist', 'uri': 'spotify:artist:25uiPmTg16RbhZWAqwLBy5'}, {'external_urls': {'spotify': 'https://open.spotify.com/artist/6qqNVTkY8uBg9cP3Jd7DAH'}, 'href': 'https://api.spotify.com/v1/artists/6qqNVTkY8uBg9cP3Jd7DAH', 'id': '6qqNVTkY8uBg9cP3Jd7DAH', 'name': 'Billie Eilish', 'type': 'artist', 'uri': 'spotify:artist:6qqNVTkY8uBg9cP3Jd7DAH'}], 'available_markets': ['AR', 'AU', 'AT', 'BE', 'BO', 'BR', 'BG', 'CA', 'CL', 'CO', 'CR', 'CY', 'CZ', 'DK', 'DO', 'DE', 'EC', 'EE', 'SV', 'FI', 'FR', 'GR', 'GT', 'HN', 'HK', 'HU', 'IS', 'IE', 'IT', 'LV', 'LT', 'LU', 'MY', 'MT', 'MX', 'NL', 'NZ', 'NI', 'NO', 'PA', 'PY', 'PE', 'PH', 'PL', 'PT', 'SG', 'SK', 'ES', 'SE', 'CH', 'TW', 'TR', 'UY', 'US', 'GB', 'AD', 'LI', 'MC', 'ID', 'JP', 'TH', 'VN', 'RO', 'IL', 'ZA', 'SA', 'AE', 'BH', 'QA', 'OM', 'KW', 'EG', 'MA', 'DZ', 'TN', 'LB', 'JO', 'PS', 'IN', 'KZ', 'MD', 'UA', 'AL', 'BA', 'HR', 'ME', 'MK', 'RS', 'SI', 'KR', 'BD', 'PK', 'LK', 'GH', 'KE', 'NG', 'TZ', 'UG', 'AG', 'AM', 'BS', 'BB', 'BZ', 'BT', 'BW', 'BF', 'CV', 'CW', 'DM', 'FJ', 'GM', 'GE', 'GD', 'GW', 'GY', 'HT', 'JM', 'KI', 'LS', 'LR', 'MW', 'MV', 'ML', 'MH', 'FM', 'NA', 'NR', 'NE', 'PW', 'PG', 'PR', 'WS', 'SM', 'ST', 'SN', 'SC', 'SL', 'SB', 'KN', 'LC', 'VC', 'SR', 'TL', 'TO', 'TT', 'TV', 'VU', 'AZ', 'BN', 'BI', 'KH', 'CM', 'TD', 'KM', 'GQ', 'SZ', 'GA', 'GN', 'KG', 'LA', 'MO', 'MR', 'MN', 'NP', 'RW', 'TG', 'UZ', 'ZW', 'BJ', 'MG', 'MU', 'MZ', 'AO', 'CI', 'DJ', 'ZM', 'CD', 'CG', 'IQ', 'LY', 'TJ', 'VE', 'ET', 'XK'], 'disc_number': 1, 'duration_ms': 143330, 'explicit': False, 'external_ids': {'isrc': 'USAT22406808'}, 'external_urls': {'spotify': 'https://open.spotify.com/track/0IsIY8pfu1yaGkPUD7pkDx'}, 'href': 'https://api.spotify.com/v1/tracks/0IsIY8pfu1yaGkPUD7pkDx', 'id': '0IsIY8pfu1yaGkPUD7pkDx', 'is_local': False, 'is_playable': True, 'name': 'Guess featuring billie eilish', 'popularity': 85, 'preview_url': None, 'track_number': 16, 'type': 'track', 'uri': 'spotify:track:0IsIY8pfu1yaGkPUD7pkDx'}, {'album': {'album_type': 'single', 'artists': [{'external_urls': {'spotify': 'https://open.spotify.com/artist/6qqNVTkY8uBg9cP3Jd7DAH'}, 'href': 'https://api.spotify.com/v1/artists/6qqNVTkY8uBg9cP3Jd7DAH', 'id': '6qqNVTkY8uBg9cP3Jd7DAH', 'name': 'Billie Eilish', 'type': 'artist', 'uri': 'spotify:artist:6qqNVTkY8uBg9cP3Jd7DAH'}, {'external_urls': {'spotify': 'https://open.spotify.com/artist/6LuN9FCkKOj5PcnpouEgny'}, 'href': 'https://api.spotify.com/v1/artists/6LuN9FCkKOj5PcnpouEgny', 'id': '6LuN9FCkKOj5PcnpouEgny', 'name': 'Khalid', 'type': 'artist', 'uri': 'spotify:artist:6LuN9FCkKOj5PcnpouEgny'}], 'available_markets': ['AR', 'AU', 'AT', 'BE', 'BO', 'BR', 'BG', 'CA', 'CL', 'CO', 'CR', 'CY', 'CZ', 'DK', 'DO', 'DE', 'EC', 'EE', 'SV', 'FI', 'FR', 'GR', 'GT', 'HN', 'HK', 'HU', 'IS', 'IE', 'IT', 'LV', 'LT', 'LU', 'MY', 'MT', 'MX', 'NL', 'NZ', 'NI', 'NO', 'PA', 'PY', 'PE', 'PH', 'PL', 'PT', 'SG', 'SK', 'ES', 'SE', 'CH', 'TW', 'TR', 'UY', 'US', 'GB', 'AD', 'LI', 'MC', 'ID', 'JP', 'TH', 'VN', 'RO', 'IL', 'ZA', 'SA', 'AE', 'BH', 'QA', 'OM', 'KW', 'EG', 'MA', 'DZ', 'TN', 'LB', 'JO', 'PS', 'IN', 'BY', 'KZ', 'MD', 'UA', 'AL', 'BA', 'HR', 'ME', 'MK', 'RS', 'SI', 'KR', 'BD', 'PK', 'LK', 'GH', 'KE', 'NG', 'TZ', 'UG', 'AG', 'AM', 'BS', 'BB', 'BZ', 'BT', 'BW', 'BF', 'CV', 'CW', 'DM', 'FJ', 'GM', 'GE', 'GD', 'GW', 'GY', 'HT', 'JM', 'KI', 'LS', 'LR', 'MW', 'MV', 'ML', 'MH', 'FM', 'NA', 'NR', 'NE', 'PW', 'PG', 'WS', 'SM', 'ST', 'SN', 'SC', 'SL', 'SB', 'KN', 'LC', 'VC', 'SR', 'TL', 'TO', 'TT', 'TV', 'VU', 'AZ', 'BN', 'BI', 'KH', 'CM', 'TD', 'KM', 'GQ', 'SZ', 'GA', 'GN', 'KG', 'LA', 'MO', 'MR', 'MN', 'NP', 'RW', 'TG', 'UZ', 'ZW', 'BJ', 'MG', 'MU', 'MZ', 'AO', 'CI', 'DJ', 'ZM', 'CD', 'CG', 'IQ', 'LY', 'TJ', 'VE', 'ET', 'XK'], 'external_urls': {'spotify': 'https://open.spotify.com/album/2sBB17RXTamvj7Ncps15AK'}, 'href': 'https://api.spotify.com/v1/albums/2sBB17RXTamvj7Ncps15AK', 'id': '2sBB17RXTamvj7Ncps15AK', 'images': [{'url': 'https://i.scdn.co/image/ab67616d0000b2738a3f0a3ca7929dea23cd274c', 'height': 640, 'width': 640}, {'url': 'https://i.scdn.co/image/ab67616d00001e028a3f0a3ca7929dea23cd274c', 'height': 300, 'width': 300}, {'url': 'https://i.scdn.co/image/ab67616d000048518a3f0a3ca7929dea23cd274c', 'height': 64, 'width': 64}], 'is_playable': True, 'name': 'lovely (with Khalid)', 'release_date': '2018-04-19', 'release_date_precision': 'day', 'total_tracks': 1, 'type': 'album', 'uri': 'spotify:album:2sBB17RXTamvj7Ncps15AK'}, 'artists': [{'external_urls': {'spotify': 'https://open.spotify.com/artist/6qqNVTkY8uBg9cP3Jd7DAH'}, 'href': 'https://api.spotify.com/v1/artists/6qqNVTkY8uBg9cP3Jd7DAH', 'id': '6qqNVTkY8uBg9cP3Jd7DAH', 'name': 'Billie Eilish', 'type': 'artist', 'uri': 'spotify:artist:6qqNVTkY8uBg9cP3Jd7DAH'}, {'external_urls': {'spotify': 'https://open.spotify.com/artist/6LuN9FCkKOj5PcnpouEgny'}, 'href': 'https://api.spotify.com/v1/artists/6LuN9FCkKOj5PcnpouEgny', 'id': '6LuN9FCkKOj5PcnpouEgny', 'name': 'Khalid', 'type': 'artist', 'uri': 'spotify:artist:6LuN9FCkKOj5PcnpouEgny'}], 'available_markets': ['AR', 'AU', 'AT', 'BE', 'BO', 'BR', 'BG', 'CA', 'CL', 'CO', 'CR', 'CY', 'CZ', 'DK', 'DO', 'DE', 'EC', 'EE', 'SV', 'FI', 'FR', 'GR', 'GT', 'HN', 'HK', 'HU', 'IS', 'IE', 'IT', 'LV', 'LT', 'LU', 'MY', 'MT', 'MX', 'NL', 'NZ', 'NI', 'NO', 'PA', 'PY', 'PE', 'PH', 'PL', 'PT', 'SG', 'SK', 'ES', 'SE', 'CH', 'TW', 'TR', 'UY', 'US', 'GB', 'AD', 'LI', 'MC', 'ID', 'JP', 'TH', 'VN', 'RO', 'IL', 'ZA', 'SA', 'AE', 'BH', 'QA', 'OM', 'KW', 'EG', 'MA', 'DZ', 'TN', 'LB', 'JO', 'PS', 'IN', 'BY', 'KZ', 'MD', 'UA', 'AL', 'BA', 'HR', 'ME', 'MK', 'RS', 'SI', 'KR', 'BD', 'PK', 'LK', 'GH', 'KE', 'NG', 'TZ', 'UG', 'AG', 'AM', 'BS', 'BB', 'BZ', 'BT', 'BW', 'BF', 'CV', 'CW', 'DM', 'FJ', 'GM', 'GE', 'GD', 'GW', 'GY', 'HT', 'JM', 'KI', 'LS', 'LR', 'MW', 'MV', 'ML', 'MH', 'FM', 'NA', 'NR', 'NE', 'PW', 'PG', 'WS', 'SM', 'ST', 'SN', 'SC', 'SL', 'SB', 'KN', 'LC', 'VC', 'SR', 'TL', 'TO', 'TT', 'TV', 'VU', 'AZ', 'BN', 'BI', 'KH', 'CM', 'TD', 'KM', 'GQ', 'SZ', 'GA', 'GN', 'KG', 'LA', 'MO', 'MR', 'MN', 'NP', 'RW', 'TG', 'UZ', 'ZW', 'BJ', 'MG', 'MU', 'MZ', 'AO', 'CI', 'DJ', 'ZM', 'CD', 'CG', 'IQ', 'LY', 'TJ', 'VE', 'ET', 'XK'], 'disc_number': 1, 'duration_ms': 200185, 'explicit': False, 'external_ids': {'isrc': 'USUM71804190'}, 'external_urls': {'spotify': 'https://open.spotify.com/track/0u2P5u6lvoDfwTYjAADbn4'}, 'href': 'https://api.spotify.com/v1/tracks/0u2P5u6lvoDfwTYjAADbn4', 'id': '0u2P5u6lvoDfwTYjAADbn4', 'is_local': False, 'is_playable': True, 'name': 'lovely (with Khalid)', 'popularity': 87, 'preview_url': None, 'track_number': 1, 'type': 'track', 'uri': 'spotify:track:0u2P5u6lvoDfwTYjAADbn4'}, {'album': {'album_type': 'single', 'artists': [{'external_urls': {'spotify': 'https://open.spotify.com/artist/6qqNVTkY8uBg9cP3Jd7DAH'}, 'href': 'https://api.spotify.com/v1/artists/6qqNVTkY8uBg9cP3Jd7DAH', 'id': '6qqNVTkY8uBg9cP3Jd7DAH', 'name': 'Billie Eilish', 'type': 'artist', 'uri': 'spotify:artist:6qqNVTkY8uBg9cP3Jd7DAH'}], 'available_markets': ['AR', 'AU', 'AT', 'BE', 'BO', 'BR', 'BG', 'CA', 'CL', 'CO', 'CR', 'CY', 'CZ', 'DK', 'DO', 'DE', 'EC', 'EE', 'SV', 'FI', 'FR', 'GR', 'GT', 'HN', 'HK', 'HU', 'IS', 'IE', 'IT', 'LV', 'LT', 'LU', 'MY', 'MT', 'MX', 'NL', 'NZ', 'NI', 'NO', 'PA', 'PY', 'PE', 'PH', 'PL', 'PT', 'SG', 'SK', 'ES', 'SE', 'CH', 'TW', 'TR', 'UY', 'US', 'GB', 'AD', 'LI', 'MC', 'ID', 'JP', 'TH', 'VN', 'RO', 'IL', 'ZA', 'SA', 'AE', 'BH', 'QA', 'OM', 'KW', 'EG', 'MA', 'DZ', 'TN', 'LB', 'JO', 'PS', 'IN', 'KZ', 'MD', 'UA', 'AL', 'BA', 'HR', 'ME', 'MK', 'RS', 'SI', 'KR', 'BD', 'PK', 'LK', 'GH', 'KE', 'NG', 'TZ', 'UG', 'AG', 'AM', 'BS', 'BB', 'BZ', 'BT', 'BW', 'BF', 'CV', 'CW', 'DM', 'FJ', 'GM', 'GE', 'GD', 'GW', 'GY', 'HT', 'JM', 'KI', 'LS', 'LR', 'MW', 'MV', 'ML', 'MH', 'FM', 'NA', 'NR', 'NE', 'PW', 'PG', 'WS', 'SM', 'ST', 'SN', 'SC', 'SL', 'SB', 'KN', 'LC', 'VC', 'SR', 'TL', 'TO', 'TT', 'TV', 'VU', 'AZ', 'BN', 'BI', 'KH', 'CM', 'TD', 'KM', 'GQ', 'SZ', 'GA', 'GN', 'KG', 'LA', 'MO', 'MR', 'MN', 'NP', 'RW', 'TG', 'UZ', 'ZW', 'BJ', 'MG', 'MU', 'MZ', 'AO', 'CI', 'DJ', 'ZM', 'CD', 'CG', 'IQ', 'LY', 'TJ', 'VE', 'ET', 'XK'], 'external_urls': {'spotify': 'https://open.spotify.com/album/3AafSrFIbJPH6BJHiJm1Cd'}, 'href': 'https://api.spotify.com/v1/albums/3AafSrFIbJPH6BJHiJm1Cd', 'id': '3AafSrFIbJPH6BJHiJm1Cd', 'images': [{'url': 'https://i.scdn.co/image/ab67616d0000b273ed317ec13d3de9e01fb99c9e', 'height': 640, 'width': 640}, {'url': 'https://i.scdn.co/image/ab67616d00001e02ed317ec13d3de9e01fb99c9e', 'height': 300, 'width': 300}, {'url': 'https://i.scdn.co/image/ab67616d00004851ed317ec13d3de9e01fb99c9e', 'height': 64, 'width': 64}], 'is_playable': True, 'name': 'What Was I Made For? [From The Motion Picture \"Barbie\"]', 'release_date': '2023-07-13', 'release_date_precision': 'day', 'total_tracks': 1, 'type': 'album', 'uri': 'spotify:album:3AafSrFIbJPH6BJHiJm1Cd'}, 'artists': [{'external_urls': {'spotify': 'https://open.spotify.com/artist/6qqNVTkY8uBg9cP3Jd7DAH'}, 'href': 'https://api.spotify.com/v1/artists/6qqNVTkY8uBg9cP3Jd7DAH', 'id': '6qqNVTkY8uBg9cP3Jd7DAH', 'name': 'Billie Eilish', 'type': 'artist', 'uri': 'spotify:artist:6qqNVTkY8uBg9cP3Jd7DAH'}], 'available_markets': ['AR', 'AU', 'AT', 'BE', 'BO', 'BR', 'BG', 'CA', 'CL', 'CO', 'CR', 'CY', 'CZ', 'DK', 'DO', 'DE', 'EC', 'EE', 'SV', 'FI', 'FR', 'GR', 'GT', 'HN', 'HK', 'HU', 'IS', 'IE', 'IT', 'LV', 'LT', 'LU', 'MY', 'MT', 'MX', 'NL', 'NZ', 'NI', 'NO', 'PA', 'PY', 'PE', 'PH', 'PL', 'PT', 'SG', 'SK', 'ES', 'SE', 'CH', 'TW', 'TR', 'UY', 'US', 'GB', 'AD', 'LI', 'MC', 'ID', 'JP', 'TH', 'VN', 'RO', 'IL', 'ZA', 'SA', 'AE', 'BH', 'QA', 'OM', 'KW', 'EG', 'MA', 'DZ', 'TN', 'LB', 'JO', 'PS', 'IN', 'KZ', 'MD', 'UA', 'AL', 'BA', 'HR', 'ME', 'MK', 'RS', 'SI', 'KR', 'BD', 'PK', 'LK', 'GH', 'KE', 'NG', 'TZ', 'UG', 'AG', 'AM', 'BS', 'BB', 'BZ', 'BT', 'BW', 'BF', 'CV', 'CW', 'DM', 'FJ', 'GM', 'GE', 'GD', 'GW', 'GY', 'HT', 'JM', 'KI', 'LS', 'LR', 'MW', 'MV', 'ML', 'MH', 'FM', 'NA', 'NR', 'NE', 'PW', 'PG', 'WS', 'SM', 'ST', 'SN', 'SC', 'SL', 'SB', 'KN', 'LC', 'VC', 'SR', 'TL', 'TO', 'TT', 'TV', 'VU', 'AZ', 'BN', 'BI', 'KH', 'CM', 'TD', 'KM', 'GQ', 'SZ', 'GA', 'GN', 'KG', 'LA', 'MO', 'MR', 'MN', 'NP', 'RW', 'TG', 'UZ', 'ZW', 'BJ', 'MG', 'MU', 'MZ', 'AO', 'CI', 'DJ', 'ZM', 'CD', 'CG', 'IQ', 'LY', 'TJ', 'VE', 'ET', 'XK'], 'disc_number': 1, 'duration_ms': 222369, 'explicit': False, 'external_ids': {'isrc': 'USUM72307484'}, 'external_urls': {'spotify': 'https://open.spotify.com/track/6wf7Yu7cxBSPrRlWeSeK0Q'}, 'href': 'https://api.spotify.com/v1/tracks/6wf7Yu7cxBSPrRlWeSeK0Q', 'id': '6wf7Yu7cxBSPrRlWeSeK0Q', 'is_local': False, 'is_playable': True, 'name': 'What Was I Made For? [From The Motion Picture \"Barbie\"]', 'popularity': 86, 'preview_url': None, 'track_number': 1, 'type': 'track', 'uri': 'spotify:track:6wf7Yu7cxBSPrRlWeSeK0Q'}, {'album': {'album_type': 'single', 'artists': [{'external_urls': {'spotify': 'https://open.spotify.com/artist/6qqNVTkY8uBg9cP3Jd7DAH'}, 'href': 'https://api.spotify.com/v1/artists/6qqNVTkY8uBg9cP3Jd7DAH', 'id': '6qqNVTkY8uBg9cP3Jd7DAH', 'name': 'Billie Eilish', 'type': 'artist', 'uri': 'spotify:artist:6qqNVTkY8uBg9cP3Jd7DAH'}], 'available_markets': ['CA', 'MX', 'US'], 'external_urls': {'spotify': 'https://open.spotify.com/album/2msN7XBgV3JCjQ7Tq3t7i9'}, 'href': 'https://api.spotify.com/v1/albums/2msN7XBgV3JCjQ7Tq3t7i9', 'id': '2msN7XBgV3JCjQ7Tq3t7i9', 'images': [{'url': 'https://i.scdn.co/image/ab67616d0000b2732cafcdd985630d72594ecc49', 'height': 640, 'width': 640}, {'url': 'https://i.scdn.co/image/ab67616d00001e022cafcdd985630d72594ecc49', 'height': 300, 'width': 300}, {'url': 'https://i.scdn.co/image/ab67616d000048512cafcdd985630d72594ecc49', 'height': 64, 'width': 64}], 'is_playable': True, 'name': 'Ocean Eyes', 'release_date': '2016-11-18', 'release_date_precision': 'day', 'total_tracks': 1, 'type': 'album', 'uri': 'spotify:album:2msN7XBgV3JCjQ7Tq3t7i9'}, 'artists': [{'external_urls': {'spotify': 'https://open.spotify.com/artist/6qqNVTkY8uBg9cP3Jd7DAH'}, 'href': 'https://api.spotify.com/v1/artists/6qqNVTkY8uBg9cP3Jd7DAH', 'id': '6qqNVTkY8uBg9cP3Jd7DAH', 'name': 'Billie Eilish', 'type': 'artist', 'uri': 'spotify:artist:6qqNVTkY8uBg9cP3Jd7DAH'}], 'available_markets': ['CA', 'MX', 'US'], 'disc_number': 1, 'duration_ms': 200560, 'explicit': False, 'external_ids': {'isrc': 'US23A1500056'}, 'external_urls': {'spotify': 'https://open.spotify.com/track/2uIX8YMNjGMD7441kqyyNU'}, 'href': 'https://api.spotify.com/v1/tracks/2uIX8YMNjGMD7441kqyyNU', 'id': '2uIX8YMNjGMD7441kqyyNU', 'is_local': False, 'is_playable': True, 'name': 'ocean eyes', 'popularity': 74, 'preview_url': None, 'track_number': 1, 'type': 'track', 'uri': 'spotify:track:2uIX8YMNjGMD7441kqyyNU'}, {'album': {'album_type': 'album', 'artists': [{'external_urls': {'spotify': 'https://open.spotify.com/artist/6qqNVTkY8uBg9cP3Jd7DAH'}, 'href': 'https://api.spotify.com/v1/artists/6qqNVTkY8uBg9cP3Jd7DAH', 'id': '6qqNVTkY8uBg9cP3Jd7DAH', 'name': 'Billie Eilish', 'type': 'artist', 'uri': 'spotify:artist:6qqNVTkY8uBg9cP3Jd7DAH'}], 'available_markets': ['AR', 'AU', 'AT', 'BE', 'BO', 'BR', 'BG', 'CA', 'CL', 'CO', 'CR', 'CY', 'CZ', 'DK', 'DO', 'DE', 'EC', 'EE', 'SV', 'FI', 'FR', 'GR', 'GT', 'HN', 'HK', 'HU', 'IS', 'IE', 'IT', 'LV', 'LT', 'LU', 'MY', 'MT', 'MX', 'NL', 'NZ', 'NI', 'NO', 'PA', 'PY', 'PE', 'PH', 'PL', 'PT', 'SG', 'SK', 'ES', 'SE', 'CH', 'TW', 'TR', 'UY', 'US', 'GB', 'AD', 'LI', 'MC', 'ID', 'JP', 'TH', 'VN', 'RO', 'IL', 'ZA', 'SA', 'AE', 'BH', 'QA', 'OM', 'KW', 'EG', 'MA', 'DZ', 'TN', 'LB', 'JO', 'PS', 'IN', 'KZ', 'MD', 'UA', 'AL', 'BA', 'HR', 'ME', 'MK', 'RS', 'SI', 'KR', 'BD', 'PK', 'LK', 'GH', 'KE', 'NG', 'TZ', 'UG', 'AG', 'AM', 'BS', 'BB', 'BZ', 'BT', 'BW', 'BF', 'CV', 'CW', 'DM', 'FJ', 'GM', 'GE', 'GD', 'GW', 'GY', 'HT', 'JM', 'KI', 'LS', 'LR', 'MW', 'MV', 'ML', 'MH', 'FM', 'NA', 'NR', 'NE', 'PW', 'PG', 'WS', 'SM', 'ST', 'SN', 'SC', 'SL', 'SB', 'KN', 'LC', 'VC', 'SR', 'TL', 'TO', 'TT', 'TV', 'VU', 'AZ', 'BN', 'BI', 'KH', 'CM', 'TD', 'KM', 'GQ', 'SZ', 'GA', 'GN', 'KG', 'LA', 'MO', 'MR', 'MN', 'NP', 'RW', 'TG', 'UZ', 'ZW', 'BJ', 'MG', 'MU', 'MZ', 'AO', 'CI', 'DJ', 'ZM', 'CD', 'CG', 'IQ', 'LY', 'TJ', 'VE', 'ET', 'XK'], 'external_urls': {'spotify': 'https://open.spotify.com/album/7aJuG4TFXa2hmE4z1yxc3n'}, 'href': 'https://api.spotify.com/v1/albums/7aJuG4TFXa2hmE4z1yxc3n', 'id': '7aJuG4TFXa2hmE4z1yxc3n', 'images': [{'url': 'https://i.scdn.co/image/ab67616d0000b27371d62ea7ea8a5be92d3c1f62', 'height': 640, 'width': 640}, {'url': 'https://i.scdn.co/image/ab67616d00001e0271d62ea7ea8a5be92d3c1f62', 'height': 300, 'width': 300}, {'url': 'https://i.scdn.co/image/ab67616d0000485171d62ea7ea8a5be92d3c1f62', 'height': 64, 'width': 64}], 'is_playable': True, 'name': 'HIT ME HARD AND SOFT', 'release_date': '2024-05-17', 'release_date_precision': 'day', 'total_tracks': 10, 'type': 'album', 'uri': 'spotify:album:7aJuG4TFXa2hmE4z1yxc3n'}, 'artists': [{'external_urls': {'spotify': 'https://open.spotify.com/artist/6qqNVTkY8uBg9cP3Jd7DAH'}, 'href': 'https://api.spotify.com/v1/artists/6qqNVTkY8uBg9cP3Jd7DAH', 'id': '6qqNVTkY8uBg9cP3Jd7DAH', 'name': 'Billie Eilish', 'type': 'artist', 'uri': 'spotify:artist:6qqNVTkY8uBg9cP3Jd7DAH'}], 'available_markets': ['AR', 'AU', 'AT', 'BE', 'BO', 'BR', 'BG', 'CA', 'CL', 'CO', 'CR', 'CY', 'CZ', 'DK', 'DO', 'DE', 'EC', 'EE', 'SV', 'FI', 'FR', 'GR', 'GT', 'HN', 'HK', 'HU', 'IS', 'IE', 'IT', 'LV', 'LT', 'LU', 'MY', 'MT', 'MX', 'NL', 'NZ', 'NI', 'NO', 'PA', 'PY', 'PE', 'PH', 'PL', 'PT', 'SG', 'SK', 'ES', 'SE', 'CH', 'TW', 'TR', 'UY', 'US', 'GB', 'AD', 'LI', 'MC', 'ID', 'JP', 'TH', 'VN', 'RO', 'IL', 'ZA', 'SA', 'AE', 'BH', 'QA', 'OM', 'KW', 'EG', 'MA', 'DZ', 'TN', 'LB', 'JO', 'PS', 'IN', 'KZ', 'MD', 'UA', 'AL', 'BA', 'HR', 'ME', 'MK', 'RS', 'SI', 'KR', 'BD', 'PK', 'LK', 'GH', 'KE', 'NG', 'TZ', 'UG', 'AG', 'AM', 'BS', 'BB', 'BZ', 'BT', 'BW', 'BF', 'CV', 'CW', 'DM', 'FJ', 'GM', 'GE', 'GD', 'GW', 'GY', 'HT', 'JM', 'KI', 'LS', 'LR', 'MW', 'MV', 'ML', 'MH', 'FM', 'NA', 'NR', 'NE', 'PW', 'PG', 'WS', 'SM', 'ST', 'SN', 'SC', 'SL', 'SB', 'KN', 'LC', 'VC', 'SR', 'TL', 'TO', 'TT', 'TV', 'VU', 'AZ', 'BN', 'BI', 'KH', 'CM', 'TD', 'KM', 'GQ', 'SZ', 'GA', 'GN', 'KG', 'LA', 'MO', 'MR', 'MN', 'NP', 'RW', 'TG', 'UZ', 'ZW', 'BJ', 'MG', 'MU', 'MZ', 'AO', 'CI', 'DJ', 'ZM', 'CD', 'CG', 'IQ', 'LY', 'TJ', 'VE', 'ET', 'XK'], 'disc_number': 1, 'duration_ms': 179586, 'explicit': False, 'external_ids': {'isrc': 'USUM72401991'}, 'external_urls': {'spotify': 'https://open.spotify.com/track/629DixmZGHc7ILtEntuiWE'}, 'href': 'https://api.spotify.com/v1/tracks/629DixmZGHc7ILtEntuiWE', 'id': '629DixmZGHc7ILtEntuiWE', 'is_local': False, 'is_playable': True, 'name': 'LUNCH', 'popularity': 86, 'preview_url': None, 'track_number': 2, 'type': 'track', 'uri': 'spotify:track:629DixmZGHc7ILtEntuiWE'}, {'album': {'album_type': 'album', 'artists': [{'external_urls': {'spotify': 'https://open.spotify.com/artist/6qqNVTkY8uBg9cP3Jd7DAH'}, 'href': 'https://api.spotify.com/v1/artists/6qqNVTkY8uBg9cP3Jd7DAH', 'id': '6qqNVTkY8uBg9cP3Jd7DAH', 'name': 'Billie Eilish', 'type': 'artist', 'uri': 'spotify:artist:6qqNVTkY8uBg9cP3Jd7DAH'}], 'available_markets': ['AR', 'AU', 'AT', 'BE', 'BO', 'BR', 'BG', 'CA', 'CL', 'CO', 'CR', 'CY', 'CZ', 'DK', 'DO', 'DE', 'EC', 'EE', 'SV', 'FI', 'FR', 'GR', 'GT', 'HN', 'HK', 'HU', 'IS', 'IE', 'IT', 'LV', 'LT', 'LU', 'MY', 'MT', 'MX', 'NL', 'NZ', 'NI', 'NO', 'PA', 'PY', 'PE', 'PH', 'PL', 'PT', 'SG', 'SK', 'ES', 'SE', 'CH', 'TW', 'TR', 'UY', 'US', 'GB', 'AD', 'LI', 'MC', 'ID', 'JP', 'TH', 'VN', 'RO', 'IL', 'ZA', 'SA', 'AE', 'BH', 'QA', 'OM', 'KW', 'EG', 'MA', 'DZ', 'TN', 'LB', 'JO', 'PS', 'IN', 'BY', 'KZ', 'MD', 'UA', 'AL', 'BA', 'HR', 'ME', 'MK', 'RS', 'SI', 'KR', 'BD', 'PK', 'LK', 'GH', 'KE', 'NG', 'TZ', 'UG', 'AG', 'AM', 'BS', 'BB', 'BZ', 'BT', 'BW', 'BF', 'CV', 'CW', 'DM', 'FJ', 'GM', 'GE', 'GD', 'GW', 'GY', 'HT', 'JM', 'KI', 'LS', 'LR', 'MW', 'MV', 'ML', 'MH', 'FM', 'NA', 'NR', 'NE', 'PW', 'PG', 'WS', 'SM', 'ST', 'SN', 'SC', 'SL', 'SB', 'KN', 'LC', 'VC', 'SR', 'TL', 'TO', 'TT', 'TV', 'VU', 'AZ', 'BN', 'BI', 'KH', 'CM', 'TD', 'KM', 'GQ', 'SZ', 'GA', 'GN', 'KG', 'LA', 'MO', 'MR', 'MN', 'NP', 'RW', 'TG', 'UZ', 'ZW', 'BJ', 'MG', 'MU', 'MZ', 'AO', 'CI', 'DJ', 'ZM', 'CD', 'CG', 'IQ', 'LY', 'TJ', 'VE', 'ET', 'XK'], 'external_urls': {'spotify': 'https://open.spotify.com/album/0S0KGZnfBGSIssfF54WSJh'}, 'href': 'https://api.spotify.com/v1/albums/0S0KGZnfBGSIssfF54WSJh', 'id': '0S0KGZnfBGSIssfF54WSJh', 'images': [{'url': 'https://i.scdn.co/image/ab67616d0000b27350a3147b4edd7701a876c6ce', 'height': 640, 'width': 640}, {'url': 'https://i.scdn.co/image/ab67616d00001e0250a3147b4edd7701a876c6ce', 'height': 300, 'width': 300}, {'url': 'https://i.scdn.co/image/ab67616d0000485150a3147b4edd7701a876c6ce', 'height': 64, 'width': 64}], 'is_playable': True, 'name': 'WHEN WE ALL FALL ASLEEP, WHERE DO WE GO?', 'release_date': '2019-03-29', 'release_date_precision': 'day', 'total_tracks': 14, 'type': 'album', 'uri': 'spotify:album:0S0KGZnfBGSIssfF54WSJh'}, 'artists': [{'external_urls': {'spotify': 'https://open.spotify.com/artist/6qqNVTkY8uBg9cP3Jd7DAH'}, 'href': 'https://api.spotify.com/v1/artists/6qqNVTkY8uBg9cP3Jd7DAH', 'id': '6qqNVTkY8uBg9cP3Jd7DAH', 'name': 'Billie Eilish', 'type': 'artist', 'uri': 'spotify:artist:6qqNVTkY8uBg9cP3Jd7DAH'}], 'available_markets': ['AR', 'AU', 'AT', 'BE', 'BO', 'BR', 'BG', 'CA', 'CL', 'CO', 'CR', 'CY', 'CZ', 'DK', 'DO', 'DE', 'EC', 'EE', 'SV', 'FI', 'FR', 'GR', 'GT', 'HN', 'HK', 'HU', 'IS', 'IE', 'IT', 'LV', 'LT', 'LU', 'MY', 'MT', 'MX', 'NL', 'NZ', 'NI', 'NO', 'PA', 'PY', 'PE', 'PH', 'PL', 'PT', 'SG', 'SK', 'ES', 'SE', 'CH', 'TW', 'TR', 'UY', 'US', 'GB', 'AD', 'LI', 'MC', 'ID', 'JP', 'TH', 'VN', 'RO', 'IL', 'ZA', 'SA', 'AE', 'BH', 'QA', 'OM', 'KW', 'EG', 'MA', 'DZ', 'TN', 'LB', 'JO', 'PS', 'IN', 'BY', 'KZ', 'MD', 'UA', 'AL', 'BA', 'HR', 'ME', 'MK', 'RS', 'SI', 'KR', 'BD', 'PK', 'LK', 'GH', 'KE', 'NG', 'TZ', 'UG', 'AG', 'AM', 'BS', 'BB', 'BZ', 'BT', 'BW', 'BF', 'CV', 'CW', 'DM', 'FJ', 'GM', 'GE', 'GD', 'GW', 'GY', 'HT', 'JM', 'KI', 'LS', 'LR', 'MW', 'MV', 'ML', 'MH', 'FM', 'NA', 'NR', 'NE', 'PW', 'PG', 'WS', 'SM', 'ST', 'SN', 'SC', 'SL', 'SB', 'KN', 'LC', 'VC', 'SR', 'TL', 'TO', 'TT', 'TV', 'VU', 'AZ', 'BN', 'BI', 'KH', 'CM', 'TD', 'KM', 'GQ', 'SZ', 'GA', 'GN', 'KG', 'LA', 'MO', 'MR', 'MN', 'NP', 'RW', 'TG', 'UZ', 'ZW', 'BJ', 'MG', 'MU', 'MZ', 'AO', 'CI', 'DJ', 'ZM', 'CD', 'CG', 'IQ', 'LY', 'TJ', 'VE', 'ET', 'XK'], 'disc_number': 1, 'duration_ms': 196077, 'explicit': False, 'external_ids': {'isrc': 'USUM71815958'}, 'external_urls': {'spotify': 'https://open.spotify.com/track/43zdsphuZLzwA9k4DJhU0I'}, 'href': 'https://api.spotify.com/v1/tracks/43zdsphuZLzwA9k4DJhU0I', 'id': '43zdsphuZLzwA9k4DJhU0I', 'is_local': False, 'is_playable': True, 'name': \"when the party's over\", 'popularity': 85, 'preview_url': None, 'track_number': 7, 'type': 'track', 'uri': 'spotify:track:43zdsphuZLzwA9k4DJhU0I'}, {'album': {'album_type': 'single', 'artists': [{'external_urls': {'spotify': 'https://open.spotify.com/artist/6qqNVTkY8uBg9cP3Jd7DAH'}, 'href': 'https://api.spotify.com/v1/artists/6qqNVTkY8uBg9cP3Jd7DAH', 'id': '6qqNVTkY8uBg9cP3Jd7DAH', 'name': 'Billie Eilish', 'type': 'artist', 'uri': 'spotify:artist:6qqNVTkY8uBg9cP3Jd7DAH'}], 'available_markets': ['AR', 'AU', 'AT', 'BE', 'BO', 'BR', 'BG', 'CA', 'CL', 'CO', 'CR', 'CY', 'CZ', 'DK', 'DO', 'DE', 'EC', 'EE', 'SV', 'FI', 'FR', 'GR', 'GT', 'HN', 'HK', 'HU', 'IS', 'IE', 'IT', 'LV', 'LT', 'LU', 'MY', 'MT', 'MX', 'NL', 'NZ', 'NI', 'NO', 'PA', 'PY', 'PE', 'PH', 'PL', 'PT', 'SG', 'SK', 'ES', 'SE', 'CH', 'TW', 'TR', 'UY', 'US', 'GB', 'AD', 'LI', 'MC', 'ID', 'JP', 'TH', 'VN', 'RO', 'IL', 'ZA', 'SA', 'AE', 'BH', 'QA', 'OM', 'KW', 'EG', 'MA', 'DZ', 'TN', 'LB', 'JO', 'PS', 'IN', 'KZ', 'MD', 'UA', 'AL', 'BA', 'HR', 'ME', 'MK', 'RS', 'SI', 'KR', 'BD', 'PK', 'LK', 'GH', 'KE', 'NG', 'TZ', 'UG', 'AG', 'AM', 'BS', 'BB', 'BZ', 'BT', 'BW', 'BF', 'CV', 'CW', 'DM', 'FJ', 'GM', 'GE', 'GD', 'GW', 'GY', 'HT', 'JM', 'KI', 'LS', 'LR', 'MW', 'MV', 'ML', 'MH', 'FM', 'NA', 'NR', 'NE', 'PW', 'PG', 'WS', 'SM', 'ST', 'SN', 'SC', 'SL', 'SB', 'KN', 'LC', 'VC', 'SR', 'TL', 'TO', 'TT', 'TV', 'VU', 'AZ', 'BN', 'BI', 'KH', 'CM', 'TD', 'KM', 'GQ', 'SZ', 'GA', 'GN', 'KG', 'LA', 'MO', 'MR', 'MN', 'NP', 'RW', 'TG', 'UZ', 'ZW', 'BJ', 'MG', 'MU', 'MZ', 'AO', 'CI', 'DJ', 'ZM', 'CD', 'CG', 'IQ', 'LY', 'TJ', 'VE', 'ET', 'XK'], 'external_urls': {'spotify': 'https://open.spotify.com/album/1YPWxMpQEC8kcOuefgXbhj'}, 'href': 'https://api.spotify.com/v1/albums/1YPWxMpQEC8kcOuefgXbhj', 'id': '1YPWxMpQEC8kcOuefgXbhj', 'images': [{'url': 'https://i.scdn.co/image/ab67616d0000b2737a4781629469bb83356cd318', 'height': 640, 'width': 640}, {'url': 'https://i.scdn.co/image/ab67616d00001e027a4781629469bb83356cd318', 'height': 300, 'width': 300}, {'url': 'https://i.scdn.co/image/ab67616d000048517a4781629469bb83356cd318', 'height': 64, 'width': 64}], 'is_playable': True, 'name': 'Guitar Songs', 'release_date': '2022-07-21', 'release_date_precision': 'day', 'total_tracks': 2, 'type': 'album', 'uri': 'spotify:album:1YPWxMpQEC8kcOuefgXbhj'}, 'artists': [{'external_urls': {'spotify': 'https://open.spotify.com/artist/6qqNVTkY8uBg9cP3Jd7DAH'}, 'href': 'https://api.spotify.com/v1/artists/6qqNVTkY8uBg9cP3Jd7DAH', 'id': '6qqNVTkY8uBg9cP3Jd7DAH', 'name': 'Billie Eilish', 'type': 'artist', 'uri': 'spotify:artist:6qqNVTkY8uBg9cP3Jd7DAH'}], 'available_markets': ['AR', 'AU', 'AT', 'BE', 'BO', 'BR', 'BG', 'CA', 'CL', 'CO', 'CR', 'CY', 'CZ', 'DK', 'DO', 'DE', 'EC', 'EE', 'SV', 'FI', 'FR', 'GR', 'GT', 'HN', 'HK', 'HU', 'IS', 'IE', 'IT', 'LV', 'LT', 'LU', 'MY', 'MT', 'MX', 'NL', 'NZ', 'NI', 'NO', 'PA', 'PY', 'PE', 'PH', 'PL', 'PT', 'SG', 'SK', 'ES', 'SE', 'CH', 'TW', 'TR', 'UY', 'US', 'GB', 'AD', 'LI', 'MC', 'ID', 'JP', 'TH', 'VN', 'RO', 'IL', 'ZA', 'SA', 'AE', 'BH', 'QA', 'OM', 'KW', 'EG', 'MA', 'DZ', 'TN', 'LB', 'JO', 'PS', 'IN', 'KZ', 'MD', 'UA', 'AL', 'BA', 'HR', 'ME', 'MK', 'RS', 'SI', 'KR', 'BD', 'PK', 'LK', 'GH', 'KE', 'NG', 'TZ', 'UG', 'AG', 'AM', 'BS', 'BB', 'BZ', 'BT', 'BW', 'BF', 'CV', 'CW', 'DM', 'FJ', 'GM', 'GE', 'GD', 'GW', 'GY', 'HT', 'JM', 'KI', 'LS', 'LR', 'MW', 'MV', 'ML', 'MH', 'FM', 'NA', 'NR', 'NE', 'PW', 'PG', 'WS', 'SM', 'ST', 'SN', 'SC', 'SL', 'SB', 'KN', 'LC', 'VC', 'SR', 'TL', 'TO', 'TT', 'TV', 'VU', 'AZ', 'BN', 'BI', 'KH', 'CM', 'TD', 'KM', 'GQ', 'SZ', 'GA', 'GN', 'KG', 'LA', 'MO', 'MR', 'MN', 'NP', 'RW', 'TG', 'UZ', 'ZW', 'BJ', 'MG', 'MU', 'MZ', 'AO', 'CI', 'DJ', 'ZM', 'CD', 'CG', 'IQ', 'LY', 'TJ', 'VE', 'ET', 'XK'], 'disc_number': 1, 'duration_ms': 281380, 'explicit': False, 'external_ids': {'isrc': 'USUM72213724'}, 'external_urls': {'spotify': 'https://open.spotify.com/track/3GYlZ7tbxLOxe6ewMNVTkw'}, 'href': 'https://api.spotify.com/v1/tracks/3GYlZ7tbxLOxe6ewMNVTkw', 'id': '3GYlZ7tbxLOxe6ewMNVTkw', 'is_local': False, 'is_playable': True, 'name': 'TV', 'popularity': 85, 'preview_url': None, 'track_number': 1, 'type': 'track', 'uri': 'spotify:track:3GYlZ7tbxLOxe6ewMNVTkw'}]}\n"
                    ]
                }
            ],
            "source": [
                "artist_id = \"6qqNVTkY8uBg9cP3Jd7DAH\"\n",
                "\n",
                "response = con.artist_top_tracks(artist_id)\n",
                "\n",
                "print(response)"
            ]
        },
        {
            "cell_type": "code",
            "execution_count": 7,
            "metadata": {},
            "outputs": [
                {
                    "name": "stdout",
                    "output_type": "stream",
                    "text": [
                        "Billie Eilish\n"
                    ]
                }
            ],
            "source": [
                "if response:\n",
                "    tracks = response['tracks']\n",
                "\n",
                "print(tracks[0]['artists'][0]['name'])\n",
                "\n",
                "tracks1 = [{k:(v/(1000*60)%60) if k == 'duration_ms' else v for k,v in track.items() if k in ['name', 'popularity','duration_ms']} for track in tracks]"
            ]
        },
        {
            "cell_type": "code",
            "execution_count": 8,
            "metadata": {},
            "outputs": [
                {
                    "name": "stdout",
                    "output_type": "stream",
                    "text": [
                        "{'duration_ms': 22.3799999999992}\n",
                        "{'duration_ms': 22.3799999999992, 'name': 'BIRDS OF A FEATHER'}\n",
                        "{'duration_ms': 22.3799999999992, 'name': 'BIRDS OF A FEATHER', 'popularity': 98}\n",
                        "{'duration_ms': 27.960000000000946}\n",
                        "{'duration_ms': 27.960000000000946, 'name': 'WILDFLOWER'}\n",
                        "{'duration_ms': 27.960000000000946, 'name': 'WILDFLOWER', 'popularity': 95}\n",
                        "{'duration_ms': 26.400000000001455}\n",
                        "{'duration_ms': 26.400000000001455, 'name': 'CHIHIRO'}\n",
                        "{'duration_ms': 26.400000000001455, 'name': 'CHIHIRO', 'popularity': 89}\n",
                        "{'duration_ms': 19.80000000000109}\n",
                        "{'duration_ms': 19.80000000000109, 'name': 'Guess featuring billie eilish'}\n",
                        "{'duration_ms': 19.80000000000109, 'name': 'Guess featuring billie eilish', 'popularity': 85}\n",
                        "{'duration_ms': 11.100000000000364}\n",
                        "{'duration_ms': 11.100000000000364, 'name': 'lovely (with Khalid)'}\n",
                        "{'duration_ms': 11.100000000000364, 'name': 'lovely (with Khalid)', 'popularity': 87}\n",
                        "{'duration_ms': 22.139999999999418}\n",
                        "{'duration_ms': 22.139999999999418, 'name': 'What Was I Made For? [From The Motion Picture \"Barbie\"]'}\n",
                        "{'duration_ms': 22.139999999999418, 'name': 'What Was I Made For? [From The Motion Picture \"Barbie\"]', 'popularity': 86}\n",
                        "{'duration_ms': 33.600000000000364}\n",
                        "{'duration_ms': 33.600000000000364, 'name': 'ocean eyes'}\n",
                        "{'duration_ms': 33.600000000000364, 'name': 'ocean eyes', 'popularity': 74}\n",
                        "{'duration_ms': 35.159999999999854}\n",
                        "{'duration_ms': 35.159999999999854, 'name': 'LUNCH'}\n",
                        "{'duration_ms': 35.159999999999854, 'name': 'LUNCH', 'popularity': 86}\n",
                        "{'duration_ms': 4.619999999998981}\n",
                        "{'duration_ms': 4.619999999998981, 'name': \"when the party's over\"}\n",
                        "{'duration_ms': 4.619999999998981, 'name': \"when the party's over\", 'popularity': 85}\n",
                        "{'duration_ms': 22.799999999999272}\n",
                        "{'duration_ms': 22.799999999999272, 'name': 'TV'}\n",
                        "{'duration_ms': 22.799999999999272, 'name': 'TV', 'popularity': 85}\n",
                        "[{'duration_ms': 22.3799999999992, 'name': 'BIRDS OF A FEATHER', 'popularity': 98}, {'duration_ms': 22.3799999999992, 'name': 'BIRDS OF A FEATHER', 'popularity': 98}, {'duration_ms': 22.3799999999992, 'name': 'BIRDS OF A FEATHER', 'popularity': 98}, {'duration_ms': 22.3799999999992, 'name': 'BIRDS OF A FEATHER', 'popularity': 98}, {'duration_ms': 22.3799999999992, 'name': 'BIRDS OF A FEATHER', 'popularity': 98}, {'duration_ms': 22.3799999999992, 'name': 'BIRDS OF A FEATHER', 'popularity': 98}, {'duration_ms': 22.3799999999992, 'name': 'BIRDS OF A FEATHER', 'popularity': 98}, {'duration_ms': 22.3799999999992, 'name': 'BIRDS OF A FEATHER', 'popularity': 98}, {'duration_ms': 22.3799999999992, 'name': 'BIRDS OF A FEATHER', 'popularity': 98}, {'duration_ms': 22.3799999999992, 'name': 'BIRDS OF A FEATHER', 'popularity': 98}, {'duration_ms': 22.3799999999992, 'name': 'BIRDS OF A FEATHER', 'popularity': 98}, {'duration_ms': 22.3799999999992, 'name': 'BIRDS OF A FEATHER', 'popularity': 98}, {'duration_ms': 22.3799999999992, 'name': 'BIRDS OF A FEATHER', 'popularity': 98}, {'duration_ms': 22.3799999999992, 'name': 'BIRDS OF A FEATHER', 'popularity': 98}, {'duration_ms': 22.3799999999992, 'name': 'BIRDS OF A FEATHER', 'popularity': 98}, {'duration_ms': 22.3799999999992, 'name': 'BIRDS OF A FEATHER', 'popularity': 98}, {'duration_ms': 22.3799999999992, 'name': 'BIRDS OF A FEATHER', 'popularity': 98}, {'duration_ms': 22.3799999999992, 'name': 'BIRDS OF A FEATHER', 'popularity': 98}, {'duration_ms': 27.960000000000946, 'name': 'WILDFLOWER', 'popularity': 95}, {'duration_ms': 27.960000000000946, 'name': 'WILDFLOWER', 'popularity': 95}, {'duration_ms': 27.960000000000946, 'name': 'WILDFLOWER', 'popularity': 95}, {'duration_ms': 27.960000000000946, 'name': 'WILDFLOWER', 'popularity': 95}, {'duration_ms': 27.960000000000946, 'name': 'WILDFLOWER', 'popularity': 95}, {'duration_ms': 27.960000000000946, 'name': 'WILDFLOWER', 'popularity': 95}, {'duration_ms': 27.960000000000946, 'name': 'WILDFLOWER', 'popularity': 95}, {'duration_ms': 27.960000000000946, 'name': 'WILDFLOWER', 'popularity': 95}, {'duration_ms': 27.960000000000946, 'name': 'WILDFLOWER', 'popularity': 95}, {'duration_ms': 27.960000000000946, 'name': 'WILDFLOWER', 'popularity': 95}, {'duration_ms': 27.960000000000946, 'name': 'WILDFLOWER', 'popularity': 95}, {'duration_ms': 27.960000000000946, 'name': 'WILDFLOWER', 'popularity': 95}, {'duration_ms': 27.960000000000946, 'name': 'WILDFLOWER', 'popularity': 95}, {'duration_ms': 27.960000000000946, 'name': 'WILDFLOWER', 'popularity': 95}, {'duration_ms': 27.960000000000946, 'name': 'WILDFLOWER', 'popularity': 95}, {'duration_ms': 27.960000000000946, 'name': 'WILDFLOWER', 'popularity': 95}, {'duration_ms': 27.960000000000946, 'name': 'WILDFLOWER', 'popularity': 95}, {'duration_ms': 27.960000000000946, 'name': 'WILDFLOWER', 'popularity': 95}, {'duration_ms': 26.400000000001455, 'name': 'CHIHIRO', 'popularity': 89}, {'duration_ms': 26.400000000001455, 'name': 'CHIHIRO', 'popularity': 89}, {'duration_ms': 26.400000000001455, 'name': 'CHIHIRO', 'popularity': 89}, {'duration_ms': 26.400000000001455, 'name': 'CHIHIRO', 'popularity': 89}, {'duration_ms': 26.400000000001455, 'name': 'CHIHIRO', 'popularity': 89}, {'duration_ms': 26.400000000001455, 'name': 'CHIHIRO', 'popularity': 89}, {'duration_ms': 26.400000000001455, 'name': 'CHIHIRO', 'popularity': 89}, {'duration_ms': 26.400000000001455, 'name': 'CHIHIRO', 'popularity': 89}, {'duration_ms': 26.400000000001455, 'name': 'CHIHIRO', 'popularity': 89}, {'duration_ms': 26.400000000001455, 'name': 'CHIHIRO', 'popularity': 89}, {'duration_ms': 26.400000000001455, 'name': 'CHIHIRO', 'popularity': 89}, {'duration_ms': 26.400000000001455, 'name': 'CHIHIRO', 'popularity': 89}, {'duration_ms': 26.400000000001455, 'name': 'CHIHIRO', 'popularity': 89}, {'duration_ms': 26.400000000001455, 'name': 'CHIHIRO', 'popularity': 89}, {'duration_ms': 26.400000000001455, 'name': 'CHIHIRO', 'popularity': 89}, {'duration_ms': 26.400000000001455, 'name': 'CHIHIRO', 'popularity': 89}, {'duration_ms': 26.400000000001455, 'name': 'CHIHIRO', 'popularity': 89}, {'duration_ms': 26.400000000001455, 'name': 'CHIHIRO', 'popularity': 89}, {'duration_ms': 19.80000000000109, 'name': 'Guess featuring billie eilish', 'popularity': 85}, {'duration_ms': 19.80000000000109, 'name': 'Guess featuring billie eilish', 'popularity': 85}, {'duration_ms': 19.80000000000109, 'name': 'Guess featuring billie eilish', 'popularity': 85}, {'duration_ms': 19.80000000000109, 'name': 'Guess featuring billie eilish', 'popularity': 85}, {'duration_ms': 19.80000000000109, 'name': 'Guess featuring billie eilish', 'popularity': 85}, {'duration_ms': 19.80000000000109, 'name': 'Guess featuring billie eilish', 'popularity': 85}, {'duration_ms': 19.80000000000109, 'name': 'Guess featuring billie eilish', 'popularity': 85}, {'duration_ms': 19.80000000000109, 'name': 'Guess featuring billie eilish', 'popularity': 85}, {'duration_ms': 19.80000000000109, 'name': 'Guess featuring billie eilish', 'popularity': 85}, {'duration_ms': 19.80000000000109, 'name': 'Guess featuring billie eilish', 'popularity': 85}, {'duration_ms': 19.80000000000109, 'name': 'Guess featuring billie eilish', 'popularity': 85}, {'duration_ms': 19.80000000000109, 'name': 'Guess featuring billie eilish', 'popularity': 85}, {'duration_ms': 19.80000000000109, 'name': 'Guess featuring billie eilish', 'popularity': 85}, {'duration_ms': 19.80000000000109, 'name': 'Guess featuring billie eilish', 'popularity': 85}, {'duration_ms': 19.80000000000109, 'name': 'Guess featuring billie eilish', 'popularity': 85}, {'duration_ms': 19.80000000000109, 'name': 'Guess featuring billie eilish', 'popularity': 85}, {'duration_ms': 19.80000000000109, 'name': 'Guess featuring billie eilish', 'popularity': 85}, {'duration_ms': 19.80000000000109, 'name': 'Guess featuring billie eilish', 'popularity': 85}, {'duration_ms': 11.100000000000364, 'name': 'lovely (with Khalid)', 'popularity': 87}, {'duration_ms': 11.100000000000364, 'name': 'lovely (with Khalid)', 'popularity': 87}, {'duration_ms': 11.100000000000364, 'name': 'lovely (with Khalid)', 'popularity': 87}, {'duration_ms': 11.100000000000364, 'name': 'lovely (with Khalid)', 'popularity': 87}, {'duration_ms': 11.100000000000364, 'name': 'lovely (with Khalid)', 'popularity': 87}, {'duration_ms': 11.100000000000364, 'name': 'lovely (with Khalid)', 'popularity': 87}, {'duration_ms': 11.100000000000364, 'name': 'lovely (with Khalid)', 'popularity': 87}, {'duration_ms': 11.100000000000364, 'name': 'lovely (with Khalid)', 'popularity': 87}, {'duration_ms': 11.100000000000364, 'name': 'lovely (with Khalid)', 'popularity': 87}, {'duration_ms': 11.100000000000364, 'name': 'lovely (with Khalid)', 'popularity': 87}, {'duration_ms': 11.100000000000364, 'name': 'lovely (with Khalid)', 'popularity': 87}, {'duration_ms': 11.100000000000364, 'name': 'lovely (with Khalid)', 'popularity': 87}, {'duration_ms': 11.100000000000364, 'name': 'lovely (with Khalid)', 'popularity': 87}, {'duration_ms': 11.100000000000364, 'name': 'lovely (with Khalid)', 'popularity': 87}, {'duration_ms': 11.100000000000364, 'name': 'lovely (with Khalid)', 'popularity': 87}, {'duration_ms': 11.100000000000364, 'name': 'lovely (with Khalid)', 'popularity': 87}, {'duration_ms': 11.100000000000364, 'name': 'lovely (with Khalid)', 'popularity': 87}, {'duration_ms': 11.100000000000364, 'name': 'lovely (with Khalid)', 'popularity': 87}, {'duration_ms': 22.139999999999418, 'name': 'What Was I Made For? [From The Motion Picture \"Barbie\"]', 'popularity': 86}, {'duration_ms': 22.139999999999418, 'name': 'What Was I Made For? [From The Motion Picture \"Barbie\"]', 'popularity': 86}, {'duration_ms': 22.139999999999418, 'name': 'What Was I Made For? [From The Motion Picture \"Barbie\"]', 'popularity': 86}, {'duration_ms': 22.139999999999418, 'name': 'What Was I Made For? [From The Motion Picture \"Barbie\"]', 'popularity': 86}, {'duration_ms': 22.139999999999418, 'name': 'What Was I Made For? [From The Motion Picture \"Barbie\"]', 'popularity': 86}, {'duration_ms': 22.139999999999418, 'name': 'What Was I Made For? [From The Motion Picture \"Barbie\"]', 'popularity': 86}, {'duration_ms': 22.139999999999418, 'name': 'What Was I Made For? [From The Motion Picture \"Barbie\"]', 'popularity': 86}, {'duration_ms': 22.139999999999418, 'name': 'What Was I Made For? [From The Motion Picture \"Barbie\"]', 'popularity': 86}, {'duration_ms': 22.139999999999418, 'name': 'What Was I Made For? [From The Motion Picture \"Barbie\"]', 'popularity': 86}, {'duration_ms': 22.139999999999418, 'name': 'What Was I Made For? [From The Motion Picture \"Barbie\"]', 'popularity': 86}, {'duration_ms': 22.139999999999418, 'name': 'What Was I Made For? [From The Motion Picture \"Barbie\"]', 'popularity': 86}, {'duration_ms': 22.139999999999418, 'name': 'What Was I Made For? [From The Motion Picture \"Barbie\"]', 'popularity': 86}, {'duration_ms': 22.139999999999418, 'name': 'What Was I Made For? [From The Motion Picture \"Barbie\"]', 'popularity': 86}, {'duration_ms': 22.139999999999418, 'name': 'What Was I Made For? [From The Motion Picture \"Barbie\"]', 'popularity': 86}, {'duration_ms': 22.139999999999418, 'name': 'What Was I Made For? [From The Motion Picture \"Barbie\"]', 'popularity': 86}, {'duration_ms': 22.139999999999418, 'name': 'What Was I Made For? [From The Motion Picture \"Barbie\"]', 'popularity': 86}, {'duration_ms': 22.139999999999418, 'name': 'What Was I Made For? [From The Motion Picture \"Barbie\"]', 'popularity': 86}, {'duration_ms': 22.139999999999418, 'name': 'What Was I Made For? [From The Motion Picture \"Barbie\"]', 'popularity': 86}, {'duration_ms': 33.600000000000364, 'name': 'ocean eyes', 'popularity': 74}, {'duration_ms': 33.600000000000364, 'name': 'ocean eyes', 'popularity': 74}, {'duration_ms': 33.600000000000364, 'name': 'ocean eyes', 'popularity': 74}, {'duration_ms': 33.600000000000364, 'name': 'ocean eyes', 'popularity': 74}, {'duration_ms': 33.600000000000364, 'name': 'ocean eyes', 'popularity': 74}, {'duration_ms': 33.600000000000364, 'name': 'ocean eyes', 'popularity': 74}, {'duration_ms': 33.600000000000364, 'name': 'ocean eyes', 'popularity': 74}, {'duration_ms': 33.600000000000364, 'name': 'ocean eyes', 'popularity': 74}, {'duration_ms': 33.600000000000364, 'name': 'ocean eyes', 'popularity': 74}, {'duration_ms': 33.600000000000364, 'name': 'ocean eyes', 'popularity': 74}, {'duration_ms': 33.600000000000364, 'name': 'ocean eyes', 'popularity': 74}, {'duration_ms': 33.600000000000364, 'name': 'ocean eyes', 'popularity': 74}, {'duration_ms': 33.600000000000364, 'name': 'ocean eyes', 'popularity': 74}, {'duration_ms': 33.600000000000364, 'name': 'ocean eyes', 'popularity': 74}, {'duration_ms': 33.600000000000364, 'name': 'ocean eyes', 'popularity': 74}, {'duration_ms': 33.600000000000364, 'name': 'ocean eyes', 'popularity': 74}, {'duration_ms': 33.600000000000364, 'name': 'ocean eyes', 'popularity': 74}, {'duration_ms': 33.600000000000364, 'name': 'ocean eyes', 'popularity': 74}, {'duration_ms': 35.159999999999854, 'name': 'LUNCH', 'popularity': 86}, {'duration_ms': 35.159999999999854, 'name': 'LUNCH', 'popularity': 86}, {'duration_ms': 35.159999999999854, 'name': 'LUNCH', 'popularity': 86}, {'duration_ms': 35.159999999999854, 'name': 'LUNCH', 'popularity': 86}, {'duration_ms': 35.159999999999854, 'name': 'LUNCH', 'popularity': 86}, {'duration_ms': 35.159999999999854, 'name': 'LUNCH', 'popularity': 86}, {'duration_ms': 35.159999999999854, 'name': 'LUNCH', 'popularity': 86}, {'duration_ms': 35.159999999999854, 'name': 'LUNCH', 'popularity': 86}, {'duration_ms': 35.159999999999854, 'name': 'LUNCH', 'popularity': 86}, {'duration_ms': 35.159999999999854, 'name': 'LUNCH', 'popularity': 86}, {'duration_ms': 35.159999999999854, 'name': 'LUNCH', 'popularity': 86}, {'duration_ms': 35.159999999999854, 'name': 'LUNCH', 'popularity': 86}, {'duration_ms': 35.159999999999854, 'name': 'LUNCH', 'popularity': 86}, {'duration_ms': 35.159999999999854, 'name': 'LUNCH', 'popularity': 86}, {'duration_ms': 35.159999999999854, 'name': 'LUNCH', 'popularity': 86}, {'duration_ms': 35.159999999999854, 'name': 'LUNCH', 'popularity': 86}, {'duration_ms': 35.159999999999854, 'name': 'LUNCH', 'popularity': 86}, {'duration_ms': 35.159999999999854, 'name': 'LUNCH', 'popularity': 86}, {'duration_ms': 4.619999999998981, 'name': \"when the party's over\", 'popularity': 85}, {'duration_ms': 4.619999999998981, 'name': \"when the party's over\", 'popularity': 85}, {'duration_ms': 4.619999999998981, 'name': \"when the party's over\", 'popularity': 85}, {'duration_ms': 4.619999999998981, 'name': \"when the party's over\", 'popularity': 85}, {'duration_ms': 4.619999999998981, 'name': \"when the party's over\", 'popularity': 85}, {'duration_ms': 4.619999999998981, 'name': \"when the party's over\", 'popularity': 85}, {'duration_ms': 4.619999999998981, 'name': \"when the party's over\", 'popularity': 85}, {'duration_ms': 4.619999999998981, 'name': \"when the party's over\", 'popularity': 85}, {'duration_ms': 4.619999999998981, 'name': \"when the party's over\", 'popularity': 85}, {'duration_ms': 4.619999999998981, 'name': \"when the party's over\", 'popularity': 85}, {'duration_ms': 4.619999999998981, 'name': \"when the party's over\", 'popularity': 85}, {'duration_ms': 4.619999999998981, 'name': \"when the party's over\", 'popularity': 85}, {'duration_ms': 4.619999999998981, 'name': \"when the party's over\", 'popularity': 85}, {'duration_ms': 4.619999999998981, 'name': \"when the party's over\", 'popularity': 85}, {'duration_ms': 4.619999999998981, 'name': \"when the party's over\", 'popularity': 85}, {'duration_ms': 4.619999999998981, 'name': \"when the party's over\", 'popularity': 85}, {'duration_ms': 4.619999999998981, 'name': \"when the party's over\", 'popularity': 85}, {'duration_ms': 4.619999999998981, 'name': \"when the party's over\", 'popularity': 85}, {'duration_ms': 22.799999999999272, 'name': 'TV', 'popularity': 85}, {'duration_ms': 22.799999999999272, 'name': 'TV', 'popularity': 85}, {'duration_ms': 22.799999999999272, 'name': 'TV', 'popularity': 85}, {'duration_ms': 22.799999999999272, 'name': 'TV', 'popularity': 85}, {'duration_ms': 22.799999999999272, 'name': 'TV', 'popularity': 85}, {'duration_ms': 22.799999999999272, 'name': 'TV', 'popularity': 85}, {'duration_ms': 22.799999999999272, 'name': 'TV', 'popularity': 85}, {'duration_ms': 22.799999999999272, 'name': 'TV', 'popularity': 85}, {'duration_ms': 22.799999999999272, 'name': 'TV', 'popularity': 85}, {'duration_ms': 22.799999999999272, 'name': 'TV', 'popularity': 85}, {'duration_ms': 22.799999999999272, 'name': 'TV', 'popularity': 85}, {'duration_ms': 22.799999999999272, 'name': 'TV', 'popularity': 85}, {'duration_ms': 22.799999999999272, 'name': 'TV', 'popularity': 85}, {'duration_ms': 22.799999999999272, 'name': 'TV', 'popularity': 85}, {'duration_ms': 22.799999999999272, 'name': 'TV', 'popularity': 85}, {'duration_ms': 22.799999999999272, 'name': 'TV', 'popularity': 85}, {'duration_ms': 22.799999999999272, 'name': 'TV', 'popularity': 85}, {'duration_ms': 22.799999999999272, 'name': 'TV', 'popularity': 85}]\n"
                    ]
                }
            ],
            "source": [
                "tracks2=[]\n",
                "\n",
                "for track in tracks:\n",
                "    cancion ={}\n",
                "    for k,v in track.items():\n",
                "        if k in ['name','popularity','duration_ms']:\n",
                "            if k == 'duration_ms':\n",
                "                v= (v/1000*60)%60\n",
                "            cancion[k]= v\n",
                "            print(cancion)\n",
                "        tracks2.append(cancion)\n",
                "\n",
                "print(tracks2)"
            ]
        },
        {
            "cell_type": "code",
            "execution_count": 9,
            "metadata": {},
            "outputs": [
                {
                    "data": {
                        "text/html": [
                            "<div>\n",
                            "<style scoped>\n",
                            "    .dataframe tbody tr th:only-of-type {\n",
                            "        vertical-align: middle;\n",
                            "    }\n",
                            "\n",
                            "    .dataframe tbody tr th {\n",
                            "        vertical-align: top;\n",
                            "    }\n",
                            "\n",
                            "    .dataframe thead th {\n",
                            "        text-align: right;\n",
                            "    }\n",
                            "</style>\n",
                            "<table border=\"1\" class=\"dataframe\">\n",
                            "  <thead>\n",
                            "    <tr style=\"text-align: right;\">\n",
                            "      <th></th>\n",
                            "      <th>duration_ms</th>\n",
                            "      <th>name</th>\n",
                            "      <th>popularity</th>\n",
                            "    </tr>\n",
                            "  </thead>\n",
                            "  <tbody>\n",
                            "    <tr>\n",
                            "      <th>0</th>\n",
                            "      <td>3.506217</td>\n",
                            "      <td>BIRDS OF A FEATHER</td>\n",
                            "      <td>98</td>\n",
                            "    </tr>\n",
                            "    <tr>\n",
                            "      <th>1</th>\n",
                            "      <td>4.357767</td>\n",
                            "      <td>WILDFLOWER</td>\n",
                            "      <td>95</td>\n",
                            "    </tr>\n",
                            "    <tr>\n",
                            "      <th>2</th>\n",
                            "      <td>5.057333</td>\n",
                            "      <td>CHIHIRO</td>\n",
                            "      <td>89</td>\n",
                            "    </tr>\n",
                            "    <tr>\n",
                            "      <th>3</th>\n",
                            "      <td>2.388833</td>\n",
                            "      <td>Guess featuring billie eilish</td>\n",
                            "      <td>85</td>\n",
                            "    </tr>\n",
                            "    <tr>\n",
                            "      <th>4</th>\n",
                            "      <td>3.336417</td>\n",
                            "      <td>lovely (with Khalid)</td>\n",
                            "      <td>87</td>\n",
                            "    </tr>\n",
                            "    <tr>\n",
                            "      <th>5</th>\n",
                            "      <td>3.706150</td>\n",
                            "      <td>What Was I Made For? [From The Motion Picture ...</td>\n",
                            "      <td>86</td>\n",
                            "    </tr>\n",
                            "    <tr>\n",
                            "      <th>6</th>\n",
                            "      <td>3.342667</td>\n",
                            "      <td>ocean eyes</td>\n",
                            "      <td>74</td>\n",
                            "    </tr>\n",
                            "    <tr>\n",
                            "      <th>7</th>\n",
                            "      <td>2.993100</td>\n",
                            "      <td>LUNCH</td>\n",
                            "      <td>86</td>\n",
                            "    </tr>\n",
                            "    <tr>\n",
                            "      <th>8</th>\n",
                            "      <td>3.267950</td>\n",
                            "      <td>when the party's over</td>\n",
                            "      <td>85</td>\n",
                            "    </tr>\n",
                            "    <tr>\n",
                            "      <th>9</th>\n",
                            "      <td>4.689667</td>\n",
                            "      <td>TV</td>\n",
                            "      <td>85</td>\n",
                            "    </tr>\n",
                            "  </tbody>\n",
                            "</table>\n",
                            "</div>"
                        ],
                        "text/plain": [
                            "   duration_ms                                               name  popularity\n",
                            "0     3.506217                                 BIRDS OF A FEATHER          98\n",
                            "1     4.357767                                         WILDFLOWER          95\n",
                            "2     5.057333                                            CHIHIRO          89\n",
                            "3     2.388833                      Guess featuring billie eilish          85\n",
                            "4     3.336417                               lovely (with Khalid)          87\n",
                            "5     3.706150  What Was I Made For? [From The Motion Picture ...          86\n",
                            "6     3.342667                                         ocean eyes          74\n",
                            "7     2.993100                                              LUNCH          86\n",
                            "8     3.267950                              when the party's over          85\n",
                            "9     4.689667                                                 TV          85"
                        ]
                    },
                    "execution_count": 9,
                    "metadata": {},
                    "output_type": "execute_result"
                }
            ],
            "source": [
                "tracks_df = pd.DataFrame.from_records(tracks1)\n",
                "tracks_df"
            ]
        },
        {
            "cell_type": "code",
            "execution_count": 10,
            "metadata": {},
            "outputs": [
                {
                    "data": {
                        "text/html": [
                            "<div>\n",
                            "<style scoped>\n",
                            "    .dataframe tbody tr th:only-of-type {\n",
                            "        vertical-align: middle;\n",
                            "    }\n",
                            "\n",
                            "    .dataframe tbody tr th {\n",
                            "        vertical-align: top;\n",
                            "    }\n",
                            "\n",
                            "    .dataframe thead th {\n",
                            "        text-align: right;\n",
                            "    }\n",
                            "</style>\n",
                            "<table border=\"1\" class=\"dataframe\">\n",
                            "  <thead>\n",
                            "    <tr style=\"text-align: right;\">\n",
                            "      <th></th>\n",
                            "      <th>duration_ms</th>\n",
                            "      <th>name</th>\n",
                            "      <th>popularity</th>\n",
                            "    </tr>\n",
                            "  </thead>\n",
                            "  <tbody>\n",
                            "    <tr>\n",
                            "      <th>0</th>\n",
                            "      <td>3.506217</td>\n",
                            "      <td>BIRDS OF A FEATHER</td>\n",
                            "      <td>98</td>\n",
                            "    </tr>\n",
                            "    <tr>\n",
                            "      <th>1</th>\n",
                            "      <td>4.357767</td>\n",
                            "      <td>WILDFLOWER</td>\n",
                            "      <td>95</td>\n",
                            "    </tr>\n",
                            "    <tr>\n",
                            "      <th>2</th>\n",
                            "      <td>5.057333</td>\n",
                            "      <td>CHIHIRO</td>\n",
                            "      <td>89</td>\n",
                            "    </tr>\n",
                            "    <tr>\n",
                            "      <th>4</th>\n",
                            "      <td>3.336417</td>\n",
                            "      <td>lovely (with Khalid)</td>\n",
                            "      <td>87</td>\n",
                            "    </tr>\n",
                            "    <tr>\n",
                            "      <th>5</th>\n",
                            "      <td>3.706150</td>\n",
                            "      <td>What Was I Made For? [From The Motion Picture ...</td>\n",
                            "      <td>86</td>\n",
                            "    </tr>\n",
                            "    <tr>\n",
                            "      <th>7</th>\n",
                            "      <td>2.993100</td>\n",
                            "      <td>LUNCH</td>\n",
                            "      <td>86</td>\n",
                            "    </tr>\n",
                            "    <tr>\n",
                            "      <th>3</th>\n",
                            "      <td>2.388833</td>\n",
                            "      <td>Guess featuring billie eilish</td>\n",
                            "      <td>85</td>\n",
                            "    </tr>\n",
                            "    <tr>\n",
                            "      <th>8</th>\n",
                            "      <td>3.267950</td>\n",
                            "      <td>when the party's over</td>\n",
                            "      <td>85</td>\n",
                            "    </tr>\n",
                            "    <tr>\n",
                            "      <th>9</th>\n",
                            "      <td>4.689667</td>\n",
                            "      <td>TV</td>\n",
                            "      <td>85</td>\n",
                            "    </tr>\n",
                            "    <tr>\n",
                            "      <th>6</th>\n",
                            "      <td>3.342667</td>\n",
                            "      <td>ocean eyes</td>\n",
                            "      <td>74</td>\n",
                            "    </tr>\n",
                            "  </tbody>\n",
                            "</table>\n",
                            "</div>"
                        ],
                        "text/plain": [
                            "   duration_ms                                               name  popularity\n",
                            "0     3.506217                                 BIRDS OF A FEATHER          98\n",
                            "1     4.357767                                         WILDFLOWER          95\n",
                            "2     5.057333                                            CHIHIRO          89\n",
                            "4     3.336417                               lovely (with Khalid)          87\n",
                            "5     3.706150  What Was I Made For? [From The Motion Picture ...          86\n",
                            "7     2.993100                                              LUNCH          86\n",
                            "3     2.388833                      Guess featuring billie eilish          85\n",
                            "8     3.267950                              when the party's over          85\n",
                            "9     4.689667                                                 TV          85\n",
                            "6     3.342667                                         ocean eyes          74"
                        ]
                    },
                    "execution_count": 10,
                    "metadata": {},
                    "output_type": "execute_result"
                }
            ],
            "source": [
                "tracks_df.sort_values(['popularity'],inplace=True,ascending=False)\n",
                "tracks_df"
            ]
        },
        {
            "cell_type": "code",
            "execution_count": 11,
            "metadata": {},
            "outputs": [
                {
                    "data": {
                        "text/html": [
                            "<div>\n",
                            "<style scoped>\n",
                            "    .dataframe tbody tr th:only-of-type {\n",
                            "        vertical-align: middle;\n",
                            "    }\n",
                            "\n",
                            "    .dataframe tbody tr th {\n",
                            "        vertical-align: top;\n",
                            "    }\n",
                            "\n",
                            "    .dataframe thead th {\n",
                            "        text-align: right;\n",
                            "    }\n",
                            "</style>\n",
                            "<table border=\"1\" class=\"dataframe\">\n",
                            "  <thead>\n",
                            "    <tr style=\"text-align: right;\">\n",
                            "      <th></th>\n",
                            "      <th>duration_ms</th>\n",
                            "      <th>name</th>\n",
                            "      <th>popularity</th>\n",
                            "    </tr>\n",
                            "  </thead>\n",
                            "  <tbody>\n",
                            "    <tr>\n",
                            "      <th>0</th>\n",
                            "      <td>3.506217</td>\n",
                            "      <td>BIRDS OF A FEATHER</td>\n",
                            "      <td>98</td>\n",
                            "    </tr>\n",
                            "    <tr>\n",
                            "      <th>1</th>\n",
                            "      <td>4.357767</td>\n",
                            "      <td>WILDFLOWER</td>\n",
                            "      <td>95</td>\n",
                            "    </tr>\n",
                            "    <tr>\n",
                            "      <th>2</th>\n",
                            "      <td>5.057333</td>\n",
                            "      <td>CHIHIRO</td>\n",
                            "      <td>89</td>\n",
                            "    </tr>\n",
                            "  </tbody>\n",
                            "</table>\n",
                            "</div>"
                        ],
                        "text/plain": [
                            "   duration_ms                name  popularity\n",
                            "0     3.506217  BIRDS OF A FEATHER          98\n",
                            "1     4.357767          WILDFLOWER          95\n",
                            "2     5.057333             CHIHIRO          89"
                        ]
                    },
                    "execution_count": 11,
                    "metadata": {},
                    "output_type": "execute_result"
                }
            ],
            "source": [
                "tracks_df.head(3)"
            ]
        },
        {
            "cell_type": "code",
            "execution_count": 13,
            "metadata": {},
            "outputs": [
                {
                    "data": {
                        "image/png": "[encoded data removed]",
                        "text/plain": [
                            "<Figure size 640x480 with 1 Axes>"
                        ]
                    },
                    "metadata": {},
                    "output_type": "display_data"
                }
            ],
            "source": [
                "import seaborn as sns\n",
                "\n",
                "scatter_plot = sns.scatterplot(data = tracks_df, x='popularity',y='duration_ms')\n",
                "fig = scatter_plot.get_figure()\n",
                "fig.savefig('scatter_plot.png')"
            ]
        }
    ],
    "metadata": {
        "kernelspec": {
            "display_name": "Python 3",
            "language": "python",
            "name": "python3"
        },
        "language_info": {
            "codemirror_mode": {
                "name": "ipython",
                "version": 3
            },
            "file_extension": ".py",
            "mimetype": "text/x-python",
            "name": "python",
            "nbconvert_exporter": "python",
            "pygments_lexer": "ipython3",
            "version": "3.11.4"
        },
        "orig_nbformat": 4
    },
    "nbformat": 4,
    "nbformat_minor": 2
}
