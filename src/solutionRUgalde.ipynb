{
    "cells": [
        {
            "cell_type": "markdown",
            "metadata": {},
            "source": [
                "# Solution R. Ugalde here"
            ]
        },
        {
            "cell_type": "code",
            "execution_count": 1,
            "metadata": {},
            "outputs": [
                {
                    "name": "stdout",
                    "output_type": "stream",
                    "text": [
                        "Client ID: 0fc0c0f47f394ed890bf5501fbc48bc6, Client Secret: 8c674905b81c48a0bfca4f16e58164d6\n"
                    ]
                }
            ],
            "source": [
                "import os\n",
                "import pandas as pd\n",
                "import seaborn as sns\n",
                "from dotenv import load_dotenv\n",
                "\n",
                "# load the .env file variables\n",
                "load_dotenv()\n",
                "client_id = os.environ.get(\"SPOTIPY_CLIENT_ID\")\n",
                "client_secret = os.environ.get(\"SPOTIPY_CLIENT_SECRET\")\n",
                "\n",
                "\n",
                "import spotipy\n",
                "from spotipy.oauth2 import SpotifyClientCredentials\n",
                "\n",
                "con = spotipy.Spotify(auth_manager = SpotifyClientCredentials(client_id = client_id,\n",
                "                                                              client_secret = client_secret))\n",
                "\n",
                "print(f\"Client ID: {client_id}, Client Secret: {client_secret}\")\n",
                "                                                            "
            ]
        },
        {
            "cell_type": "code",
            "execution_count": 2,
            "metadata": {},
            "outputs": [
                {
                    "name": "stdout",
                    "output_type": "stream",
                    "text": [
                        "Connected successfully! Found artist: Coldplay\n"
                    ]
                }
            ],
            "source": [
                "import os\n",
                "import pandas as pd\n",
                "import seaborn as sns\n",
                "from dotenv import load_dotenv\n",
                "\n",
                "# Load environment variables from .env file\n",
                "load_dotenv()\n",
                "\n",
                "client_id = os.getenv(\"SPOTIPY_CLIENT_ID\")\n",
                "client_secret = os.getenv(\"SPOTIPY_CLIENT_SECRET\")\n",
                "\n",
                "import spotipy\n",
                "from spotipy.oauth2 import SpotifyClientCredentials\n",
                "\n",
                "# Initialize Spotipy\n",
                "auth_manager = SpotifyClientCredentials(client_id=client_id, client_secret=client_secret)\n",
                "sp = spotipy.Spotify(auth_manager=auth_manager)\n",
                "\n",
                "# Test connection\n",
                "try:\n",
                "    result = sp.search(q=\"Coldplay\", type=\"artist\")\n",
                "    print(\"Connected successfully! Found artist:\", result['artists']['items'][0]['name'])\n",
                "except Exception as e:\n",
                "    print(\"Error:\", e)\n"
            ]
        },
        {
            "cell_type": "code",
            "execution_count": 3,
            "metadata": {},
            "outputs": [],
            "source": [
                "artist_id = \"3TVXtAsR1Inumwj472S9r4\"\n",
                "\n",
                "try:\n",
                "    response = sp.artist_top_tracks(artist_id)\n",
                "    if response:\n",
                "        # Extract the \"tracks\" object from the API response\n",
                "        tracks = response[\"tracks\"]\n",
                "\n",
                "        # Select relevant data and convert duration from ms to minutes\n",
                "        tracks = [{k: (v / (1000 * 60)) % 60 if k == \"duration_ms\" else v \n",
                "                   for k, v in track.items() \n",
                "                   if k in [\"name\", \"popularity\", \"duration_ms\"]} \n",
                "                  for track in tracks]\n",
                "    else:\n",
                "        print(\"No response from API.\")\n",
                "except Exception as e:\n",
                "    print(f\"Error fetching top tracks: {e}\")\n"
            ]
        },
        {
            "cell_type": "code",
            "execution_count": 4,
            "metadata": {},
            "outputs": [],
            "source": [
                "sp = spotipy.Spotify(auth_manager=SpotifyClientCredentials(\n",
                "    client_id=client_id, \n",
                "    client_secret=client_secret, \n",
                "    requests_timeout=30  # Increase timeout to 30 seconds\n",
                "))\n"
            ]
        },
        {
            "cell_type": "code",
            "execution_count": 5,
            "metadata": {},
            "outputs": [
                {
                    "name": "stdout",
                    "output_type": "stream",
                    "text": [
                        "   duration_ms        name  popularity\n",
                        "0     4.017050       NOKIA          91\n",
                        "1     3.257183  DIE TRYING          88\n",
                        "2     2.899767   One Dance          87\n"
                    ]
                }
            ],
            "source": [
                "import pandas as pd\n",
                "\n",
                "tracks_df = pd.DataFrame.from_records(tracks)\n",
                "tracks_df.sort_values(by=\"popularity\", ascending=False, inplace=True)\n",
                "\n",
                "print(tracks_df.head(3))\n"
            ]
        },
        {
            "cell_type": "code",
            "execution_count": 6,
            "metadata": {},
            "outputs": [
                {
                    "data": {
                        "image/png": "[encoded data removed]",
                        "text/plain": [
                            "<Figure size 800x600 with 1 Axes>"
                        ]
                    },
                    "metadata": {},
                    "output_type": "display_data"
                }
            ],
            "source": [
                "import seaborn as sns\n",
                "import matplotlib.pyplot as plt\n",
                "\n",
                "plt.figure(figsize=(8,6))  # Set figure size\n",
                "scatter_plot = sns.scatterplot(data=tracks_df, x=\"popularity\", y=\"duration_ms\")\n",
                "scatter_plot.set_title(\"Song Popularity vs. Duration\")\n",
                "scatter_plot.set_xlabel(\"Popularity\")\n",
                "scatter_plot.set_ylabel(\"Duration (minutes)\")\n",
                "\n",
                "# Save the plot as an image\n",
                "fig = scatter_plot.get_figure()\n",
                "fig.savefig(\"scatter_plot.png\")\n",
                "\n",
                "plt.show()  # Show plot in interactive environments\n"
            ]
        }
    ],
    "metadata": {
        "kernelspec": {
            "display_name": "Python 3",
            "language": "python",
            "name": "python3"
        },
        "language_info": {
            "codemirror_mode": {
                "name": "ipython",
                "version": 3
            },
            "file_extension": ".py",
            "mimetype": "text/x-python",
            "name": "python",
            "nbconvert_exporter": "python",
            "pygments_lexer": "ipython3",
            "version": "3.11.4"
        },
        "orig_nbformat": 4
    },
    "nbformat": 4,
    "nbformat_minor": 2
}
