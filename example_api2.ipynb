{
 "cells": [
  {
   "cell_type": "code",
   "execution_count": 1,
   "metadata": {},
   "outputs": [],
   "source": [
    "import requests\n",
    "\n",
    "# Define the API URL\n",
    "api_url = \"http://localhost:8000\"  # Replace with your server URL\n",
    "\n",
    "# Submit a word to get the reversed word\n",
    "word_to_submit = \"hello\"  # Replace with the word you want to submit\n",
    "\n",
    "# Send a POST request to submit the word\n",
    "response = requests.post(f\"{api_url}/submit_word/\", json={\"word\": word_to_submit})"
   ]
  },
  {
   "cell_type": "code",
   "execution_count": null,
   "metadata": {},
   "outputs": [],
   "source": [
    "if response.status_code == 200:\n",
    "    data = response.json()\n",
    "    reversed_word = data[\"reversed_word\"]\n",
    "    key = data[\"key\"]\n",
    "    print(f\"Submitted word: {word_to_submit}\")\n",
    "    print(f\"Reversed word: {reversed_word}\")\n",
    "    print(f\"Key: {key}\")\n",
    "else:\n",
    "    print(f\"Failed to submit the word. Status code: {response.status_code}\")"
   ]
  },
  {
   "cell_type": "code",
   "execution_count": 3,
   "metadata": {},
   "outputs": [],
   "source": [
    "\n",
    "# Retrieve the reversed word using the key\n",
    "retrieved_key = key  # Use the key obtained from the previous response\n",
    "\n",
    "response = requests.get(f\"{api_url}/get_reversed_word/{retrieved_key}\")"
   ]
  },
  {
   "cell_type": "code",
   "execution_count": null,
   "metadata": {},
   "outputs": [],
   "source": [
    "if response.status_code == 200:\n",
    "    data = response.json()\n",
    "    reversed_word = data[\"reversed_word\"]\n",
    "    key = data[\"key\"]\n",
    "    print(f\"Retrieved Reversed word: {reversed_word}\")\n",
    "else:\n",
    "    print(f\"Failed to retrieve the reversed word. Status code: {response.status_code}\")"
   ]
  },
  {
   "cell_type": "code",
   "execution_count": null,
   "metadata": {},
   "outputs": [],
   "source": []
  }
 ],
 "metadata": {
  "kernelspec": {
   "display_name": "Python 3",
   "language": "python",
   "name": "python3"
  },
  "language_info": {
   "codemirror_mode": {
    "name": "ipython",
    "version": 3
   },
   "file_extension": ".py",
   "mimetype": "text/x-python",
   "name": "python",
   "nbconvert_exporter": "python",
   "pygments_lexer": "ipython3",
   "version": "3.11.4"
  }
 },
 "nbformat": 4,
 "nbformat_minor": 2
}
